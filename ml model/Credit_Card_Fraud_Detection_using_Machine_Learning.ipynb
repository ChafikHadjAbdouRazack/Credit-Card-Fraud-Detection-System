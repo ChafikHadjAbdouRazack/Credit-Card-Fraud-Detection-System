{
  "cells": [
    {
      "cell_type": "markdown",
      "id": "1bc52258",
      "metadata": {
        "id": "1bc52258"
      },
      "source": [
        "# Credit Card Fraud Detection using Machine Learning\n",
        "\n",
        "# About Data:\n",
        "This is a dataset containing credit card transactions with 31 features and a class label. The features represent various aspects of the transaction, and the class label indicates whether the transaction was fraudulent (class 1) or not (class 0).\n",
        "\n",
        "The first feature is \"Time\", which represents the number of seconds elapsed between the transaction and the first transaction in the dataset. The next 28 features, V1 to V28, are anonymized variables resulting from a principal component analysis (PCA) transformation of the original features. They represent different aspects of the transaction, such as the amount, location, and type of transaction.\n",
        "\n",
        "The second last feature is \"Amount\", which represents the transaction amount in USD. The last feature is the \"Class\" label, which indicates whether the transaction is fraudulent (class 1) or not (class 0).\n",
        "\n",
        "Overall, this dataset is used to train machine learning models to detect fraudulent transactions in real-time. The features are used to train the model to learn patterns in the data, which can then be used to detect fraudulent transactions in future transactions."
      ]
    },
    {
      "cell_type": "code",
      "execution_count": 37,
      "id": "2c13ced3",
      "metadata": {
        "id": "2c13ced3"
      },
      "outputs": [],
      "source": [
        "import numpy as np\n",
        "import pandas as pd\n",
        "from sklearn.model_selection import train_test_split\n",
        "from sklearn.linear_model import LogisticRegression\n",
        "from sklearn.metrics import accuracy_score"
      ]
    },
    {
      "cell_type": "code",
      "execution_count": 39,
      "id": "d83d2275",
      "metadata": {
        "colab": {
          "base_uri": "https://localhost:8080/",
          "height": 255
        },
        "id": "d83d2275",
        "outputId": "acb221f2-beef-44ad-b4b1-e97341615004"
      },
      "outputs": [
        {
          "data": {
            "text/html": [
              "<div>\n",
              "<style scoped>\n",
              "    .dataframe tbody tr th:only-of-type {\n",
              "        vertical-align: middle;\n",
              "    }\n",
              "\n",
              "    .dataframe tbody tr th {\n",
              "        vertical-align: top;\n",
              "    }\n",
              "\n",
              "    .dataframe thead th {\n",
              "        text-align: right;\n",
              "    }\n",
              "</style>\n",
              "<table border=\"1\" class=\"dataframe\">\n",
              "  <thead>\n",
              "    <tr style=\"text-align: right;\">\n",
              "      <th></th>\n",
              "      <th>Time</th>\n",
              "      <th>V1</th>\n",
              "      <th>V2</th>\n",
              "      <th>V3</th>\n",
              "      <th>V4</th>\n",
              "      <th>V5</th>\n",
              "      <th>V6</th>\n",
              "      <th>V7</th>\n",
              "      <th>V8</th>\n",
              "      <th>V9</th>\n",
              "      <th>...</th>\n",
              "      <th>V21</th>\n",
              "      <th>V22</th>\n",
              "      <th>V23</th>\n",
              "      <th>V24</th>\n",
              "      <th>V25</th>\n",
              "      <th>V26</th>\n",
              "      <th>V27</th>\n",
              "      <th>V28</th>\n",
              "      <th>Amount</th>\n",
              "      <th>Class</th>\n",
              "    </tr>\n",
              "  </thead>\n",
              "  <tbody>\n",
              "    <tr>\n",
              "      <th>0</th>\n",
              "      <td>0</td>\n",
              "      <td>-1.359807</td>\n",
              "      <td>-0.072781</td>\n",
              "      <td>2.536347</td>\n",
              "      <td>1.378155</td>\n",
              "      <td>-0.338321</td>\n",
              "      <td>0.462388</td>\n",
              "      <td>0.239599</td>\n",
              "      <td>0.098698</td>\n",
              "      <td>0.363787</td>\n",
              "      <td>...</td>\n",
              "      <td>-0.018307</td>\n",
              "      <td>0.277838</td>\n",
              "      <td>-0.110474</td>\n",
              "      <td>0.066928</td>\n",
              "      <td>0.128539</td>\n",
              "      <td>-0.189115</td>\n",
              "      <td>0.133558</td>\n",
              "      <td>-0.021053</td>\n",
              "      <td>149.62</td>\n",
              "      <td>0</td>\n",
              "    </tr>\n",
              "    <tr>\n",
              "      <th>1</th>\n",
              "      <td>0</td>\n",
              "      <td>1.191857</td>\n",
              "      <td>0.266151</td>\n",
              "      <td>0.166480</td>\n",
              "      <td>0.448154</td>\n",
              "      <td>0.060018</td>\n",
              "      <td>-0.082361</td>\n",
              "      <td>-0.078803</td>\n",
              "      <td>0.085102</td>\n",
              "      <td>-0.255425</td>\n",
              "      <td>...</td>\n",
              "      <td>-0.225775</td>\n",
              "      <td>-0.638672</td>\n",
              "      <td>0.101288</td>\n",
              "      <td>-0.339846</td>\n",
              "      <td>0.167170</td>\n",
              "      <td>0.125895</td>\n",
              "      <td>-0.008983</td>\n",
              "      <td>0.014724</td>\n",
              "      <td>2.69</td>\n",
              "      <td>0</td>\n",
              "    </tr>\n",
              "    <tr>\n",
              "      <th>2</th>\n",
              "      <td>1</td>\n",
              "      <td>-1.358354</td>\n",
              "      <td>-1.340163</td>\n",
              "      <td>1.773209</td>\n",
              "      <td>0.379780</td>\n",
              "      <td>-0.503198</td>\n",
              "      <td>1.800499</td>\n",
              "      <td>0.791461</td>\n",
              "      <td>0.247676</td>\n",
              "      <td>-1.514654</td>\n",
              "      <td>...</td>\n",
              "      <td>0.247998</td>\n",
              "      <td>0.771679</td>\n",
              "      <td>0.909412</td>\n",
              "      <td>-0.689281</td>\n",
              "      <td>-0.327642</td>\n",
              "      <td>-0.139097</td>\n",
              "      <td>-0.055353</td>\n",
              "      <td>-0.059752</td>\n",
              "      <td>378.66</td>\n",
              "      <td>0</td>\n",
              "    </tr>\n",
              "    <tr>\n",
              "      <th>3</th>\n",
              "      <td>1</td>\n",
              "      <td>-0.966272</td>\n",
              "      <td>-0.185226</td>\n",
              "      <td>1.792993</td>\n",
              "      <td>-0.863291</td>\n",
              "      <td>-0.010309</td>\n",
              "      <td>1.247203</td>\n",
              "      <td>0.237609</td>\n",
              "      <td>0.377436</td>\n",
              "      <td>-1.387024</td>\n",
              "      <td>...</td>\n",
              "      <td>-0.108300</td>\n",
              "      <td>0.005274</td>\n",
              "      <td>-0.190321</td>\n",
              "      <td>-1.175575</td>\n",
              "      <td>0.647376</td>\n",
              "      <td>-0.221929</td>\n",
              "      <td>0.062723</td>\n",
              "      <td>0.061458</td>\n",
              "      <td>123.50</td>\n",
              "      <td>0</td>\n",
              "    </tr>\n",
              "    <tr>\n",
              "      <th>4</th>\n",
              "      <td>2</td>\n",
              "      <td>-1.158233</td>\n",
              "      <td>0.877737</td>\n",
              "      <td>1.548718</td>\n",
              "      <td>0.403034</td>\n",
              "      <td>-0.407193</td>\n",
              "      <td>0.095921</td>\n",
              "      <td>0.592941</td>\n",
              "      <td>-0.270533</td>\n",
              "      <td>0.817739</td>\n",
              "      <td>...</td>\n",
              "      <td>-0.009431</td>\n",
              "      <td>0.798278</td>\n",
              "      <td>-0.137458</td>\n",
              "      <td>0.141267</td>\n",
              "      <td>-0.206010</td>\n",
              "      <td>0.502292</td>\n",
              "      <td>0.219422</td>\n",
              "      <td>0.215153</td>\n",
              "      <td>69.99</td>\n",
              "      <td>0</td>\n",
              "    </tr>\n",
              "  </tbody>\n",
              "</table>\n",
              "<p>5 rows × 31 columns</p>\n",
              "</div>"
            ],
            "text/plain": [
              "   Time        V1        V2        V3        V4        V5        V6        V7  \\\n",
              "0     0 -1.359807 -0.072781  2.536347  1.378155 -0.338321  0.462388  0.239599   \n",
              "1     0  1.191857  0.266151  0.166480  0.448154  0.060018 -0.082361 -0.078803   \n",
              "2     1 -1.358354 -1.340163  1.773209  0.379780 -0.503198  1.800499  0.791461   \n",
              "3     1 -0.966272 -0.185226  1.792993 -0.863291 -0.010309  1.247203  0.237609   \n",
              "4     2 -1.158233  0.877737  1.548718  0.403034 -0.407193  0.095921  0.592941   \n",
              "\n",
              "         V8        V9  ...       V21       V22       V23       V24       V25  \\\n",
              "0  0.098698  0.363787  ... -0.018307  0.277838 -0.110474  0.066928  0.128539   \n",
              "1  0.085102 -0.255425  ... -0.225775 -0.638672  0.101288 -0.339846  0.167170   \n",
              "2  0.247676 -1.514654  ...  0.247998  0.771679  0.909412 -0.689281 -0.327642   \n",
              "3  0.377436 -1.387024  ... -0.108300  0.005274 -0.190321 -1.175575  0.647376   \n",
              "4 -0.270533  0.817739  ... -0.009431  0.798278 -0.137458  0.141267 -0.206010   \n",
              "\n",
              "        V26       V27       V28  Amount  Class  \n",
              "0 -0.189115  0.133558 -0.021053  149.62      0  \n",
              "1  0.125895 -0.008983  0.014724    2.69      0  \n",
              "2 -0.139097 -0.055353 -0.059752  378.66      0  \n",
              "3 -0.221929  0.062723  0.061458  123.50      0  \n",
              "4  0.502292  0.219422  0.215153   69.99      0  \n",
              "\n",
              "[5 rows x 31 columns]"
            ]
          },
          "execution_count": 39,
          "metadata": {},
          "output_type": "execute_result"
        }
      ],
      "source": [
        "credit_card_data = pd.read_csv('dataset/test-2.csv')\n",
        "credit_card_data.head(5)"
      ]
    },
    {
      "cell_type": "code",
      "execution_count": 40,
      "id": "753bd152",
      "metadata": {
        "colab": {
          "base_uri": "https://localhost:8080/",
          "height": 130
        },
        "id": "753bd152",
        "outputId": "81a7f186-d9c4-493b-f6c2-ef02a9ee358a"
      },
      "outputs": [
        {
          "data": {
            "text/html": [
              "<div>\n",
              "<style scoped>\n",
              "    .dataframe tbody tr th:only-of-type {\n",
              "        vertical-align: middle;\n",
              "    }\n",
              "\n",
              "    .dataframe tbody tr th {\n",
              "        vertical-align: top;\n",
              "    }\n",
              "\n",
              "    .dataframe thead th {\n",
              "        text-align: right;\n",
              "    }\n",
              "</style>\n",
              "<table border=\"1\" class=\"dataframe\">\n",
              "  <thead>\n",
              "    <tr style=\"text-align: right;\">\n",
              "      <th></th>\n",
              "      <th>Time</th>\n",
              "      <th>V1</th>\n",
              "      <th>V2</th>\n",
              "      <th>V3</th>\n",
              "      <th>V4</th>\n",
              "      <th>V5</th>\n",
              "      <th>V6</th>\n",
              "      <th>V7</th>\n",
              "      <th>V8</th>\n",
              "      <th>V9</th>\n",
              "      <th>...</th>\n",
              "      <th>V21</th>\n",
              "      <th>V22</th>\n",
              "      <th>V23</th>\n",
              "      <th>V24</th>\n",
              "      <th>V25</th>\n",
              "      <th>V26</th>\n",
              "      <th>V27</th>\n",
              "      <th>V28</th>\n",
              "      <th>Amount</th>\n",
              "      <th>Class</th>\n",
              "    </tr>\n",
              "  </thead>\n",
              "  <tbody>\n",
              "    <tr>\n",
              "      <th>6607</th>\n",
              "      <td>8088</td>\n",
              "      <td>-2.098047</td>\n",
              "      <td>-0.099137</td>\n",
              "      <td>3.300938</td>\n",
              "      <td>2.138612</td>\n",
              "      <td>1.516937</td>\n",
              "      <td>2.207892</td>\n",
              "      <td>-0.508034</td>\n",
              "      <td>1.026307</td>\n",
              "      <td>-0.205847</td>\n",
              "      <td>...</td>\n",
              "      <td>0.42964</td>\n",
              "      <td>0.951894</td>\n",
              "      <td>0.184371</td>\n",
              "      <td>-1.136725</td>\n",
              "      <td>0.079279</td>\n",
              "      <td>-0.068108</td>\n",
              "      <td>0.004177</td>\n",
              "      <td>0.071401</td>\n",
              "      <td>102.0</td>\n",
              "      <td>0</td>\n",
              "    </tr>\n",
              "  </tbody>\n",
              "</table>\n",
              "<p>1 rows × 31 columns</p>\n",
              "</div>"
            ],
            "text/plain": [
              "      Time        V1        V2        V3        V4        V5        V6  \\\n",
              "6607  8088 -2.098047 -0.099137  3.300938  2.138612  1.516937  2.207892   \n",
              "\n",
              "            V7        V8        V9  ...      V21       V22       V23  \\\n",
              "6607 -0.508034  1.026307 -0.205847  ...  0.42964  0.951894  0.184371   \n",
              "\n",
              "           V24       V25       V26       V27       V28  Amount  Class  \n",
              "6607 -1.136725  0.079279 -0.068108  0.004177  0.071401   102.0      0  \n",
              "\n",
              "[1 rows x 31 columns]"
            ]
          },
          "execution_count": 40,
          "metadata": {},
          "output_type": "execute_result"
        }
      ],
      "source": [
        "credit_card_data.sample()"
      ]
    },
    {
      "cell_type": "code",
      "execution_count": 41,
      "id": "83846109",
      "metadata": {
        "colab": {
          "base_uri": "https://localhost:8080/"
        },
        "id": "83846109",
        "outputId": "a4d3cdd2-6b96-4ce9-b2b5-3d4eb2a3e51a"
      },
      "outputs": [
        {
          "name": "stdout",
          "output_type": "stream",
          "text": [
            "<class 'pandas.core.frame.DataFrame'>\n",
            "RangeIndex: 7500 entries, 0 to 7499\n",
            "Data columns (total 31 columns):\n",
            " #   Column  Non-Null Count  Dtype  \n",
            "---  ------  --------------  -----  \n",
            " 0   Time    7500 non-null   int64  \n",
            " 1   V1      7500 non-null   float64\n",
            " 2   V2      7500 non-null   float64\n",
            " 3   V3      7500 non-null   float64\n",
            " 4   V4      7500 non-null   float64\n",
            " 5   V5      7500 non-null   float64\n",
            " 6   V6      7500 non-null   float64\n",
            " 7   V7      7500 non-null   float64\n",
            " 8   V8      7500 non-null   float64\n",
            " 9   V9      7500 non-null   float64\n",
            " 10  V10     7500 non-null   float64\n",
            " 11  V11     7500 non-null   float64\n",
            " 12  V12     7500 non-null   float64\n",
            " 13  V13     7500 non-null   float64\n",
            " 14  V14     7500 non-null   float64\n",
            " 15  V15     7500 non-null   float64\n",
            " 16  V16     7500 non-null   float64\n",
            " 17  V17     7500 non-null   float64\n",
            " 18  V18     7500 non-null   float64\n",
            " 19  V19     7500 non-null   float64\n",
            " 20  V20     7500 non-null   float64\n",
            " 21  V21     7500 non-null   float64\n",
            " 22  V22     7500 non-null   float64\n",
            " 23  V23     7500 non-null   float64\n",
            " 24  V24     7500 non-null   float64\n",
            " 25  V25     7500 non-null   float64\n",
            " 26  V26     7500 non-null   float64\n",
            " 27  V27     7500 non-null   float64\n",
            " 28  V28     7500 non-null   float64\n",
            " 29  Amount  7500 non-null   float64\n",
            " 30  Class   7500 non-null   int64  \n",
            "dtypes: float64(29), int64(2)\n",
            "memory usage: 1.8 MB\n"
          ]
        }
      ],
      "source": [
        "# dataset informations\n",
        "credit_card_data.info()"
      ]
    },
    {
      "cell_type": "code",
      "execution_count": 42,
      "id": "246b4366",
      "metadata": {
        "colab": {
          "base_uri": "https://localhost:8080/",
          "height": 1000
        },
        "id": "246b4366",
        "outputId": "fa609fad-3f93-4e63-ab80-c3de00be8e6b"
      },
      "outputs": [
        {
          "data": {
            "text/plain": [
              "Time      0\n",
              "V1        0\n",
              "V2        0\n",
              "V3        0\n",
              "V4        0\n",
              "V5        0\n",
              "V6        0\n",
              "V7        0\n",
              "V8        0\n",
              "V9        0\n",
              "V10       0\n",
              "V11       0\n",
              "V12       0\n",
              "V13       0\n",
              "V14       0\n",
              "V15       0\n",
              "V16       0\n",
              "V17       0\n",
              "V18       0\n",
              "V19       0\n",
              "V20       0\n",
              "V21       0\n",
              "V22       0\n",
              "V23       0\n",
              "V24       0\n",
              "V25       0\n",
              "V26       0\n",
              "V27       0\n",
              "V28       0\n",
              "Amount    0\n",
              "Class     0\n",
              "dtype: int64"
            ]
          },
          "execution_count": 42,
          "metadata": {},
          "output_type": "execute_result"
        }
      ],
      "source": [
        "# checking the number of missing values in each column\n",
        "credit_card_data.isnull().sum()"
      ]
    },
    {
      "cell_type": "code",
      "execution_count": 43,
      "id": "fb438397",
      "metadata": {
        "colab": {
          "base_uri": "https://localhost:8080/",
          "height": 178
        },
        "id": "fb438397",
        "outputId": "082c6e49-fb9c-4755-82d0-5a72d4fb54a3"
      },
      "outputs": [
        {
          "data": {
            "text/plain": [
              "Class\n",
              "0    7475\n",
              "1      25\n",
              "Name: count, dtype: int64"
            ]
          },
          "execution_count": 43,
          "metadata": {},
          "output_type": "execute_result"
        }
      ],
      "source": [
        "# distribution of legit transactions & fraudulent transactions\n",
        "credit_card_data['Class'].value_counts()"
      ]
    },
    {
      "cell_type": "markdown",
      "id": "3b167208",
      "metadata": {
        "id": "3b167208"
      },
      "source": [
        "This Dataset is highly unblanced\n",
        "\n",
        "0 --> Normal Transaction\n",
        "\n",
        "1 --> fraudulent transaction\n",
        "\n",
        "The first line of code creates a new dataframe called \"legit\" by selecting only the rows from the original \"credit_card_data\" dataframe where the \"Class\" label is equal to 0. In other words, it filters out all transactions labeled as fraudulent (Class == 1) and keeps only the legitimate transactions (Class == 0).\n",
        "\n",
        "The second line of code creates a new dataframe called \"fraud\" by selecting only the rows from the original \"credit_card_data\" dataframe where the \"Class\" label is equal to 1. This filters out all legitimate transactions and keeps only the fraudulent transactions.\n",
        "\n",
        "By separating the data into two dataframes, it becomes easier to analyze and compare the characteristics of legitimate and fraudulent transactions separately. This can be useful for identifying patterns or features that are more common in fraudulent transactions, which can then be used to develop models for fraud detection."
      ]
    },
    {
      "cell_type": "code",
      "execution_count": 44,
      "id": "fb0236ee",
      "metadata": {
        "id": "fb0236ee"
      },
      "outputs": [],
      "source": [
        "legit = credit_card_data[credit_card_data.Class==0]\n",
        "fraud = credit_card_data[credit_card_data['Class']==1]"
      ]
    },
    {
      "cell_type": "code",
      "execution_count": 45,
      "id": "be752bdf",
      "metadata": {
        "colab": {
          "base_uri": "https://localhost:8080/",
          "height": 458
        },
        "id": "be752bdf",
        "outputId": "732d24aa-9ce6-44b5-ced1-af0f7ed12471"
      },
      "outputs": [
        {
          "data": {
            "text/plain": [
              "541     1\n",
              "623     1\n",
              "4920    1\n",
              "6108    1\n",
              "6329    1\n",
              "6331    1\n",
              "6334    1\n",
              "6336    1\n",
              "6338    1\n",
              "6427    1\n",
              "6446    1\n",
              "6472    1\n",
              "6529    1\n",
              "6609    1\n",
              "6641    1\n",
              "6717    1\n",
              "6719    1\n",
              "6734    1\n",
              "6774    1\n",
              "6820    1\n",
              "6870    1\n",
              "6882    1\n",
              "6899    1\n",
              "6903    1\n",
              "6971    1\n",
              "Name: Class, dtype: int64"
            ]
          },
          "execution_count": 45,
          "metadata": {},
          "output_type": "execute_result"
        }
      ],
      "source": [
        "fraud['Class']"
      ]
    },
    {
      "cell_type": "code",
      "execution_count": 46,
      "id": "e2ca0549",
      "metadata": {
        "colab": {
          "base_uri": "https://localhost:8080/",
          "height": 335
        },
        "id": "e2ca0549",
        "outputId": "68626a68-4dc4-4244-b4b8-21d3bc2edd03"
      },
      "outputs": [
        {
          "data": {
            "text/plain": [
              "count    7475.000000\n",
              "mean       65.233196\n",
              "std       189.863375\n",
              "min         0.000000\n",
              "25%         4.490000\n",
              "50%        15.980000\n",
              "75%        55.810000\n",
              "max      7712.430000\n",
              "Name: Amount, dtype: float64"
            ]
          },
          "execution_count": 46,
          "metadata": {},
          "output_type": "execute_result"
        }
      ],
      "source": [
        "# statistical measures of the data\n",
        "legit.Amount.describe()"
      ]
    },
    {
      "cell_type": "code",
      "execution_count": 47,
      "id": "c3b86b23",
      "metadata": {
        "colab": {
          "base_uri": "https://localhost:8080/",
          "height": 335
        },
        "id": "c3b86b23",
        "outputId": "f750494e-e522-422d-af4d-f320fa938529"
      },
      "outputs": [
        {
          "data": {
            "text/plain": [
              "count      25.000000\n",
              "mean      106.308400\n",
              "std       372.676883\n",
              "min         0.000000\n",
              "25%         1.000000\n",
              "50%         1.000000\n",
              "75%         1.000000\n",
              "max      1809.680000\n",
              "Name: Amount, dtype: float64"
            ]
          },
          "execution_count": 47,
          "metadata": {},
          "output_type": "execute_result"
        }
      ],
      "source": [
        "fraud.Amount.describe()"
      ]
    },
    {
      "cell_type": "code",
      "execution_count": 48,
      "id": "6e206b0f",
      "metadata": {
        "colab": {
          "base_uri": "https://localhost:8080/",
          "height": 192
        },
        "id": "6e206b0f",
        "outputId": "f8534206-411e-4815-c571-8f740c95815a"
      },
      "outputs": [
        {
          "data": {
            "text/html": [
              "<div>\n",
              "<style scoped>\n",
              "    .dataframe tbody tr th:only-of-type {\n",
              "        vertical-align: middle;\n",
              "    }\n",
              "\n",
              "    .dataframe tbody tr th {\n",
              "        vertical-align: top;\n",
              "    }\n",
              "\n",
              "    .dataframe thead th {\n",
              "        text-align: right;\n",
              "    }\n",
              "</style>\n",
              "<table border=\"1\" class=\"dataframe\">\n",
              "  <thead>\n",
              "    <tr style=\"text-align: right;\">\n",
              "      <th></th>\n",
              "      <th>Time</th>\n",
              "      <th>V1</th>\n",
              "      <th>V2</th>\n",
              "      <th>V3</th>\n",
              "      <th>V4</th>\n",
              "      <th>V5</th>\n",
              "      <th>V6</th>\n",
              "      <th>V7</th>\n",
              "      <th>V8</th>\n",
              "      <th>V9</th>\n",
              "      <th>...</th>\n",
              "      <th>V20</th>\n",
              "      <th>V21</th>\n",
              "      <th>V22</th>\n",
              "      <th>V23</th>\n",
              "      <th>V24</th>\n",
              "      <th>V25</th>\n",
              "      <th>V26</th>\n",
              "      <th>V27</th>\n",
              "      <th>V28</th>\n",
              "      <th>Amount</th>\n",
              "    </tr>\n",
              "    <tr>\n",
              "      <th>Class</th>\n",
              "      <th></th>\n",
              "      <th></th>\n",
              "      <th></th>\n",
              "      <th></th>\n",
              "      <th></th>\n",
              "      <th></th>\n",
              "      <th></th>\n",
              "      <th></th>\n",
              "      <th></th>\n",
              "      <th></th>\n",
              "      <th></th>\n",
              "      <th></th>\n",
              "      <th></th>\n",
              "      <th></th>\n",
              "      <th></th>\n",
              "      <th></th>\n",
              "      <th></th>\n",
              "      <th></th>\n",
              "      <th></th>\n",
              "      <th></th>\n",
              "      <th></th>\n",
              "    </tr>\n",
              "  </thead>\n",
              "  <tbody>\n",
              "    <tr>\n",
              "      <th>0</th>\n",
              "      <td>3838.068361</td>\n",
              "      <td>-0.307603</td>\n",
              "      <td>0.291124</td>\n",
              "      <td>0.906121</td>\n",
              "      <td>0.193777</td>\n",
              "      <td>-0.007708</td>\n",
              "      <td>0.177136</td>\n",
              "      <td>-0.006946</td>\n",
              "      <td>-0.061090</td>\n",
              "      <td>0.617026</td>\n",
              "      <td>...</td>\n",
              "      <td>0.045744</td>\n",
              "      <td>-0.053597</td>\n",
              "      <td>-0.167602</td>\n",
              "      <td>-0.034043</td>\n",
              "      <td>0.026271</td>\n",
              "      <td>0.091555</td>\n",
              "      <td>-0.011393</td>\n",
              "      <td>0.017930</td>\n",
              "      <td>0.00011</td>\n",
              "      <td>65.233196</td>\n",
              "    </tr>\n",
              "    <tr>\n",
              "      <th>1</th>\n",
              "      <td>7359.240000</td>\n",
              "      <td>-1.154048</td>\n",
              "      <td>2.930880</td>\n",
              "      <td>-4.757618</td>\n",
              "      <td>4.590240</td>\n",
              "      <td>-0.636103</td>\n",
              "      <td>-1.952536</td>\n",
              "      <td>-2.202403</td>\n",
              "      <td>0.647916</td>\n",
              "      <td>-1.581984</td>\n",
              "      <td>...</td>\n",
              "      <td>0.263011</td>\n",
              "      <td>0.393614</td>\n",
              "      <td>-0.265715</td>\n",
              "      <td>-0.116502</td>\n",
              "      <td>-0.183413</td>\n",
              "      <td>0.067479</td>\n",
              "      <td>0.256994</td>\n",
              "      <td>0.421586</td>\n",
              "      <td>0.23760</td>\n",
              "      <td>106.308400</td>\n",
              "    </tr>\n",
              "  </tbody>\n",
              "</table>\n",
              "<p>2 rows × 30 columns</p>\n",
              "</div>"
            ],
            "text/plain": [
              "              Time        V1        V2        V3        V4        V5  \\\n",
              "Class                                                                  \n",
              "0      3838.068361 -0.307603  0.291124  0.906121  0.193777 -0.007708   \n",
              "1      7359.240000 -1.154048  2.930880 -4.757618  4.590240 -0.636103   \n",
              "\n",
              "             V6        V7        V8        V9  ...       V20       V21  \\\n",
              "Class                                          ...                       \n",
              "0      0.177136 -0.006946 -0.061090  0.617026  ...  0.045744 -0.053597   \n",
              "1     -1.952536 -2.202403  0.647916 -1.581984  ...  0.263011  0.393614   \n",
              "\n",
              "            V22       V23       V24       V25       V26       V27      V28  \\\n",
              "Class                                                                        \n",
              "0     -0.167602 -0.034043  0.026271  0.091555 -0.011393  0.017930  0.00011   \n",
              "1     -0.265715 -0.116502 -0.183413  0.067479  0.256994  0.421586  0.23760   \n",
              "\n",
              "           Amount  \n",
              "Class              \n",
              "0       65.233196  \n",
              "1      106.308400  \n",
              "\n",
              "[2 rows x 30 columns]"
            ]
          },
          "execution_count": 48,
          "metadata": {},
          "output_type": "execute_result"
        }
      ],
      "source": [
        "# compare the values for both transactions\n",
        "credit_card_data.groupby('Class').mean()"
      ]
    },
    {
      "cell_type": "markdown",
      "id": "d8cc7668",
      "metadata": {
        "id": "d8cc7668"
      },
      "source": [
        "Build a sample dataset containing similar distribution of normal transactions and Fraudulent Transactions\n",
        "\n",
        "Number of Fraudulent Transactions --> 492"
      ]
    },
    {
      "cell_type": "markdown",
      "id": "613f6166",
      "metadata": {
        "id": "613f6166"
      },
      "source": [
        "legit_sample = legit.sample(n=492) is a line of code that takes a random sample of 492 observations from the legit dataset. This is done to balance the number of observations in the legit and fraud datasets, which is necessary for training a machine learning model to predict fraud. Since the original dataset has a large number of legitimate transactions and a small number of fraudulent transactions, the model may be biased towards predicting that all transactions are legitimate. By creating a balanced dataset with an equal number of legitimate and fraudulent transactions, the model can be trained to better recognize the patterns that differentiate fraudulent transactions from legitimate ones"
      ]
    },
    {
      "cell_type": "code",
      "execution_count": 49,
      "id": "bb7b80c4",
      "metadata": {
        "id": "bb7b80c4"
      },
      "outputs": [],
      "source": [
        "legit_sample = legit.sample(n=492)"
      ]
    },
    {
      "cell_type": "code",
      "execution_count": 50,
      "id": "34c16888",
      "metadata": {
        "id": "34c16888"
      },
      "outputs": [],
      "source": [
        "new_df = pd.concat([legit_sample,fraud],axis=0)"
      ]
    },
    {
      "cell_type": "code",
      "execution_count": 51,
      "id": "87718b97",
      "metadata": {
        "colab": {
          "base_uri": "https://localhost:8080/",
          "height": 443
        },
        "id": "87718b97",
        "outputId": "87ee4d54-bfae-41bc-e952-7e18aa2fb36f"
      },
      "outputs": [
        {
          "data": {
            "text/html": [
              "<div>\n",
              "<style scoped>\n",
              "    .dataframe tbody tr th:only-of-type {\n",
              "        vertical-align: middle;\n",
              "    }\n",
              "\n",
              "    .dataframe tbody tr th {\n",
              "        vertical-align: top;\n",
              "    }\n",
              "\n",
              "    .dataframe thead th {\n",
              "        text-align: right;\n",
              "    }\n",
              "</style>\n",
              "<table border=\"1\" class=\"dataframe\">\n",
              "  <thead>\n",
              "    <tr style=\"text-align: right;\">\n",
              "      <th></th>\n",
              "      <th>Time</th>\n",
              "      <th>V1</th>\n",
              "      <th>V2</th>\n",
              "      <th>V3</th>\n",
              "      <th>V4</th>\n",
              "      <th>V5</th>\n",
              "      <th>V6</th>\n",
              "      <th>V7</th>\n",
              "      <th>V8</th>\n",
              "      <th>V9</th>\n",
              "      <th>...</th>\n",
              "      <th>V21</th>\n",
              "      <th>V22</th>\n",
              "      <th>V23</th>\n",
              "      <th>V24</th>\n",
              "      <th>V25</th>\n",
              "      <th>V26</th>\n",
              "      <th>V27</th>\n",
              "      <th>V28</th>\n",
              "      <th>Amount</th>\n",
              "      <th>Class</th>\n",
              "    </tr>\n",
              "  </thead>\n",
              "  <tbody>\n",
              "    <tr>\n",
              "      <th>1716</th>\n",
              "      <td>1328</td>\n",
              "      <td>0.988553</td>\n",
              "      <td>-0.774050</td>\n",
              "      <td>-0.602488</td>\n",
              "      <td>-1.519531</td>\n",
              "      <td>-0.350313</td>\n",
              "      <td>-0.690654</td>\n",
              "      <td>0.236715</td>\n",
              "      <td>-0.091379</td>\n",
              "      <td>0.905596</td>\n",
              "      <td>...</td>\n",
              "      <td>0.102347</td>\n",
              "      <td>0.026370</td>\n",
              "      <td>-0.259711</td>\n",
              "      <td>-0.271585</td>\n",
              "      <td>0.553470</td>\n",
              "      <td>0.033558</td>\n",
              "      <td>-0.043757</td>\n",
              "      <td>0.012867</td>\n",
              "      <td>160.00</td>\n",
              "      <td>0</td>\n",
              "    </tr>\n",
              "    <tr>\n",
              "      <th>985</th>\n",
              "      <td>744</td>\n",
              "      <td>0.846466</td>\n",
              "      <td>-0.648165</td>\n",
              "      <td>0.909723</td>\n",
              "      <td>1.278921</td>\n",
              "      <td>-0.848055</td>\n",
              "      <td>0.723489</td>\n",
              "      <td>-0.706530</td>\n",
              "      <td>0.453813</td>\n",
              "      <td>0.762523</td>\n",
              "      <td>...</td>\n",
              "      <td>0.238578</td>\n",
              "      <td>0.464747</td>\n",
              "      <td>-0.204267</td>\n",
              "      <td>-0.327269</td>\n",
              "      <td>0.330811</td>\n",
              "      <td>-0.217592</td>\n",
              "      <td>0.041951</td>\n",
              "      <td>0.037855</td>\n",
              "      <td>138.00</td>\n",
              "      <td>0</td>\n",
              "    </tr>\n",
              "    <tr>\n",
              "      <th>4276</th>\n",
              "      <td>3756</td>\n",
              "      <td>1.350757</td>\n",
              "      <td>-0.767438</td>\n",
              "      <td>-0.944465</td>\n",
              "      <td>-1.595062</td>\n",
              "      <td>1.432443</td>\n",
              "      <td>3.284171</td>\n",
              "      <td>-1.135629</td>\n",
              "      <td>0.703558</td>\n",
              "      <td>0.357024</td>\n",
              "      <td>...</td>\n",
              "      <td>-0.262242</td>\n",
              "      <td>-0.912080</td>\n",
              "      <td>0.058162</td>\n",
              "      <td>0.921365</td>\n",
              "      <td>0.347414</td>\n",
              "      <td>-0.511174</td>\n",
              "      <td>-0.024878</td>\n",
              "      <td>0.020000</td>\n",
              "      <td>68.15</td>\n",
              "      <td>0</td>\n",
              "    </tr>\n",
              "    <tr>\n",
              "      <th>6754</th>\n",
              "      <td>8492</td>\n",
              "      <td>-0.984687</td>\n",
              "      <td>1.024215</td>\n",
              "      <td>1.429716</td>\n",
              "      <td>0.431752</td>\n",
              "      <td>0.604193</td>\n",
              "      <td>0.079797</td>\n",
              "      <td>0.399412</td>\n",
              "      <td>0.072281</td>\n",
              "      <td>0.881834</td>\n",
              "      <td>...</td>\n",
              "      <td>-0.143881</td>\n",
              "      <td>-0.376227</td>\n",
              "      <td>-0.191026</td>\n",
              "      <td>-0.448101</td>\n",
              "      <td>-0.226216</td>\n",
              "      <td>-0.610318</td>\n",
              "      <td>-0.286850</td>\n",
              "      <td>0.102007</td>\n",
              "      <td>10.75</td>\n",
              "      <td>0</td>\n",
              "    </tr>\n",
              "    <tr>\n",
              "      <th>394</th>\n",
              "      <td>285</td>\n",
              "      <td>-0.931805</td>\n",
              "      <td>1.527737</td>\n",
              "      <td>0.818889</td>\n",
              "      <td>0.056990</td>\n",
              "      <td>-0.319930</td>\n",
              "      <td>-1.054736</td>\n",
              "      <td>0.358790</td>\n",
              "      <td>0.354073</td>\n",
              "      <td>-0.392590</td>\n",
              "      <td>...</td>\n",
              "      <td>-0.249969</td>\n",
              "      <td>-0.713791</td>\n",
              "      <td>0.044634</td>\n",
              "      <td>0.334423</td>\n",
              "      <td>-0.081413</td>\n",
              "      <td>0.078215</td>\n",
              "      <td>0.231701</td>\n",
              "      <td>0.090920</td>\n",
              "      <td>8.99</td>\n",
              "      <td>0</td>\n",
              "    </tr>\n",
              "    <tr>\n",
              "      <th>...</th>\n",
              "      <td>...</td>\n",
              "      <td>...</td>\n",
              "      <td>...</td>\n",
              "      <td>...</td>\n",
              "      <td>...</td>\n",
              "      <td>...</td>\n",
              "      <td>...</td>\n",
              "      <td>...</td>\n",
              "      <td>...</td>\n",
              "      <td>...</td>\n",
              "      <td>...</td>\n",
              "      <td>...</td>\n",
              "      <td>...</td>\n",
              "      <td>...</td>\n",
              "      <td>...</td>\n",
              "      <td>...</td>\n",
              "      <td>...</td>\n",
              "      <td>...</td>\n",
              "      <td>...</td>\n",
              "      <td>...</td>\n",
              "      <td>...</td>\n",
              "    </tr>\n",
              "    <tr>\n",
              "      <th>6870</th>\n",
              "      <td>8757</td>\n",
              "      <td>-1.863756</td>\n",
              "      <td>3.442644</td>\n",
              "      <td>-4.468260</td>\n",
              "      <td>2.805336</td>\n",
              "      <td>-2.118412</td>\n",
              "      <td>-2.332285</td>\n",
              "      <td>-4.261237</td>\n",
              "      <td>1.701682</td>\n",
              "      <td>-1.439396</td>\n",
              "      <td>...</td>\n",
              "      <td>0.667927</td>\n",
              "      <td>-0.516242</td>\n",
              "      <td>-0.012218</td>\n",
              "      <td>0.070614</td>\n",
              "      <td>0.058504</td>\n",
              "      <td>0.304883</td>\n",
              "      <td>0.418012</td>\n",
              "      <td>0.208858</td>\n",
              "      <td>1.00</td>\n",
              "      <td>1</td>\n",
              "    </tr>\n",
              "    <tr>\n",
              "      <th>6882</th>\n",
              "      <td>8808</td>\n",
              "      <td>-4.617217</td>\n",
              "      <td>1.695694</td>\n",
              "      <td>-3.114372</td>\n",
              "      <td>4.328199</td>\n",
              "      <td>-1.873257</td>\n",
              "      <td>-0.989908</td>\n",
              "      <td>-4.577265</td>\n",
              "      <td>0.472216</td>\n",
              "      <td>0.472017</td>\n",
              "      <td>...</td>\n",
              "      <td>0.481830</td>\n",
              "      <td>0.146023</td>\n",
              "      <td>0.117039</td>\n",
              "      <td>-0.217565</td>\n",
              "      <td>-0.138776</td>\n",
              "      <td>-0.424453</td>\n",
              "      <td>-1.002041</td>\n",
              "      <td>0.890780</td>\n",
              "      <td>1.10</td>\n",
              "      <td>1</td>\n",
              "    </tr>\n",
              "    <tr>\n",
              "      <th>6899</th>\n",
              "      <td>8878</td>\n",
              "      <td>-2.661802</td>\n",
              "      <td>5.856393</td>\n",
              "      <td>-7.653616</td>\n",
              "      <td>6.379742</td>\n",
              "      <td>-0.060712</td>\n",
              "      <td>-3.131550</td>\n",
              "      <td>-3.103570</td>\n",
              "      <td>1.778492</td>\n",
              "      <td>-3.831154</td>\n",
              "      <td>...</td>\n",
              "      <td>0.734775</td>\n",
              "      <td>-0.435901</td>\n",
              "      <td>-0.384766</td>\n",
              "      <td>-0.286016</td>\n",
              "      <td>1.007934</td>\n",
              "      <td>0.413196</td>\n",
              "      <td>0.280284</td>\n",
              "      <td>0.303937</td>\n",
              "      <td>1.00</td>\n",
              "      <td>1</td>\n",
              "    </tr>\n",
              "    <tr>\n",
              "      <th>6903</th>\n",
              "      <td>8886</td>\n",
              "      <td>-2.535852</td>\n",
              "      <td>5.793644</td>\n",
              "      <td>-7.618463</td>\n",
              "      <td>6.395830</td>\n",
              "      <td>-0.065210</td>\n",
              "      <td>-3.136372</td>\n",
              "      <td>-3.104557</td>\n",
              "      <td>1.823233</td>\n",
              "      <td>-3.878658</td>\n",
              "      <td>...</td>\n",
              "      <td>0.716720</td>\n",
              "      <td>-0.448060</td>\n",
              "      <td>-0.402407</td>\n",
              "      <td>-0.288835</td>\n",
              "      <td>1.011752</td>\n",
              "      <td>0.425965</td>\n",
              "      <td>0.413140</td>\n",
              "      <td>0.308205</td>\n",
              "      <td>1.00</td>\n",
              "      <td>1</td>\n",
              "    </tr>\n",
              "    <tr>\n",
              "      <th>6971</th>\n",
              "      <td>9064</td>\n",
              "      <td>-3.499108</td>\n",
              "      <td>0.258555</td>\n",
              "      <td>-4.489558</td>\n",
              "      <td>4.853894</td>\n",
              "      <td>-6.974522</td>\n",
              "      <td>3.628382</td>\n",
              "      <td>5.431271</td>\n",
              "      <td>-1.946734</td>\n",
              "      <td>-0.775680</td>\n",
              "      <td>...</td>\n",
              "      <td>-1.052368</td>\n",
              "      <td>0.204817</td>\n",
              "      <td>-2.119007</td>\n",
              "      <td>0.170279</td>\n",
              "      <td>-0.393844</td>\n",
              "      <td>0.296367</td>\n",
              "      <td>1.985913</td>\n",
              "      <td>-0.900452</td>\n",
              "      <td>1809.68</td>\n",
              "      <td>1</td>\n",
              "    </tr>\n",
              "  </tbody>\n",
              "</table>\n",
              "<p>517 rows × 31 columns</p>\n",
              "</div>"
            ],
            "text/plain": [
              "      Time        V1        V2        V3        V4        V5        V6  \\\n",
              "1716  1328  0.988553 -0.774050 -0.602488 -1.519531 -0.350313 -0.690654   \n",
              "985    744  0.846466 -0.648165  0.909723  1.278921 -0.848055  0.723489   \n",
              "4276  3756  1.350757 -0.767438 -0.944465 -1.595062  1.432443  3.284171   \n",
              "6754  8492 -0.984687  1.024215  1.429716  0.431752  0.604193  0.079797   \n",
              "394    285 -0.931805  1.527737  0.818889  0.056990 -0.319930 -1.054736   \n",
              "...    ...       ...       ...       ...       ...       ...       ...   \n",
              "6870  8757 -1.863756  3.442644 -4.468260  2.805336 -2.118412 -2.332285   \n",
              "6882  8808 -4.617217  1.695694 -3.114372  4.328199 -1.873257 -0.989908   \n",
              "6899  8878 -2.661802  5.856393 -7.653616  6.379742 -0.060712 -3.131550   \n",
              "6903  8886 -2.535852  5.793644 -7.618463  6.395830 -0.065210 -3.136372   \n",
              "6971  9064 -3.499108  0.258555 -4.489558  4.853894 -6.974522  3.628382   \n",
              "\n",
              "            V7        V8        V9  ...       V21       V22       V23  \\\n",
              "1716  0.236715 -0.091379  0.905596  ...  0.102347  0.026370 -0.259711   \n",
              "985  -0.706530  0.453813  0.762523  ...  0.238578  0.464747 -0.204267   \n",
              "4276 -1.135629  0.703558  0.357024  ... -0.262242 -0.912080  0.058162   \n",
              "6754  0.399412  0.072281  0.881834  ... -0.143881 -0.376227 -0.191026   \n",
              "394   0.358790  0.354073 -0.392590  ... -0.249969 -0.713791  0.044634   \n",
              "...        ...       ...       ...  ...       ...       ...       ...   \n",
              "6870 -4.261237  1.701682 -1.439396  ...  0.667927 -0.516242 -0.012218   \n",
              "6882 -4.577265  0.472216  0.472017  ...  0.481830  0.146023  0.117039   \n",
              "6899 -3.103570  1.778492 -3.831154  ...  0.734775 -0.435901 -0.384766   \n",
              "6903 -3.104557  1.823233 -3.878658  ...  0.716720 -0.448060 -0.402407   \n",
              "6971  5.431271 -1.946734 -0.775680  ... -1.052368  0.204817 -2.119007   \n",
              "\n",
              "           V24       V25       V26       V27       V28   Amount  Class  \n",
              "1716 -0.271585  0.553470  0.033558 -0.043757  0.012867   160.00      0  \n",
              "985  -0.327269  0.330811 -0.217592  0.041951  0.037855   138.00      0  \n",
              "4276  0.921365  0.347414 -0.511174 -0.024878  0.020000    68.15      0  \n",
              "6754 -0.448101 -0.226216 -0.610318 -0.286850  0.102007    10.75      0  \n",
              "394   0.334423 -0.081413  0.078215  0.231701  0.090920     8.99      0  \n",
              "...        ...       ...       ...       ...       ...      ...    ...  \n",
              "6870  0.070614  0.058504  0.304883  0.418012  0.208858     1.00      1  \n",
              "6882 -0.217565 -0.138776 -0.424453 -1.002041  0.890780     1.10      1  \n",
              "6899 -0.286016  1.007934  0.413196  0.280284  0.303937     1.00      1  \n",
              "6903 -0.288835  1.011752  0.425965  0.413140  0.308205     1.00      1  \n",
              "6971  0.170279 -0.393844  0.296367  1.985913 -0.900452  1809.68      1  \n",
              "\n",
              "[517 rows x 31 columns]"
            ]
          },
          "execution_count": 51,
          "metadata": {},
          "output_type": "execute_result"
        }
      ],
      "source": [
        "new_df"
      ]
    },
    {
      "cell_type": "code",
      "execution_count": 17,
      "id": "3868d20e",
      "metadata": {
        "colab": {
          "base_uri": "https://localhost:8080/",
          "height": 178
        },
        "id": "3868d20e",
        "outputId": "466a6eb8-21ee-41b3-9e09-47aa747cbafd"
      },
      "outputs": [
        {
          "data": {
            "text/plain": [
              "Class\n",
              "0    492\n",
              "1    492\n",
              "Name: count, dtype: int64"
            ]
          },
          "execution_count": 17,
          "metadata": {},
          "output_type": "execute_result"
        }
      ],
      "source": [
        "new_df['Class'].value_counts()"
      ]
    },
    {
      "cell_type": "code",
      "execution_count": 18,
      "id": "dc05a681",
      "metadata": {
        "colab": {
          "base_uri": "https://localhost:8080/",
          "height": 192
        },
        "id": "dc05a681",
        "outputId": "8127b920-0323-40d5-8ee9-26d98f5bd119"
      },
      "outputs": [
        {
          "data": {
            "text/html": [
              "<div>\n",
              "<style scoped>\n",
              "    .dataframe tbody tr th:only-of-type {\n",
              "        vertical-align: middle;\n",
              "    }\n",
              "\n",
              "    .dataframe tbody tr th {\n",
              "        vertical-align: top;\n",
              "    }\n",
              "\n",
              "    .dataframe thead th {\n",
              "        text-align: right;\n",
              "    }\n",
              "</style>\n",
              "<table border=\"1\" class=\"dataframe\">\n",
              "  <thead>\n",
              "    <tr style=\"text-align: right;\">\n",
              "      <th></th>\n",
              "      <th>Time</th>\n",
              "      <th>V1</th>\n",
              "      <th>V2</th>\n",
              "      <th>V3</th>\n",
              "      <th>V4</th>\n",
              "      <th>V5</th>\n",
              "      <th>V6</th>\n",
              "      <th>V7</th>\n",
              "      <th>V8</th>\n",
              "      <th>V9</th>\n",
              "      <th>...</th>\n",
              "      <th>V20</th>\n",
              "      <th>V21</th>\n",
              "      <th>V22</th>\n",
              "      <th>V23</th>\n",
              "      <th>V24</th>\n",
              "      <th>V25</th>\n",
              "      <th>V26</th>\n",
              "      <th>V27</th>\n",
              "      <th>V28</th>\n",
              "      <th>Amount</th>\n",
              "    </tr>\n",
              "    <tr>\n",
              "      <th>Class</th>\n",
              "      <th></th>\n",
              "      <th></th>\n",
              "      <th></th>\n",
              "      <th></th>\n",
              "      <th></th>\n",
              "      <th></th>\n",
              "      <th></th>\n",
              "      <th></th>\n",
              "      <th></th>\n",
              "      <th></th>\n",
              "      <th></th>\n",
              "      <th></th>\n",
              "      <th></th>\n",
              "      <th></th>\n",
              "      <th></th>\n",
              "      <th></th>\n",
              "      <th></th>\n",
              "      <th></th>\n",
              "      <th></th>\n",
              "      <th></th>\n",
              "      <th></th>\n",
              "    </tr>\n",
              "  </thead>\n",
              "  <tbody>\n",
              "    <tr>\n",
              "      <th>0</th>\n",
              "      <td>94894.493902</td>\n",
              "      <td>-0.005318</td>\n",
              "      <td>-0.053724</td>\n",
              "      <td>-0.069328</td>\n",
              "      <td>-0.049915</td>\n",
              "      <td>0.022442</td>\n",
              "      <td>0.001627</td>\n",
              "      <td>0.033571</td>\n",
              "      <td>-0.043619</td>\n",
              "      <td>-0.131781</td>\n",
              "      <td>...</td>\n",
              "      <td>-0.019470</td>\n",
              "      <td>0.020041</td>\n",
              "      <td>0.021029</td>\n",
              "      <td>-0.005789</td>\n",
              "      <td>-0.016514</td>\n",
              "      <td>0.013873</td>\n",
              "      <td>-0.014395</td>\n",
              "      <td>-0.027772</td>\n",
              "      <td>0.018552</td>\n",
              "      <td>97.838659</td>\n",
              "    </tr>\n",
              "    <tr>\n",
              "      <th>1</th>\n",
              "      <td>80746.806911</td>\n",
              "      <td>-4.771948</td>\n",
              "      <td>3.623778</td>\n",
              "      <td>-7.033281</td>\n",
              "      <td>4.542029</td>\n",
              "      <td>-3.151225</td>\n",
              "      <td>-1.397737</td>\n",
              "      <td>-5.568731</td>\n",
              "      <td>0.570636</td>\n",
              "      <td>-2.581123</td>\n",
              "      <td>...</td>\n",
              "      <td>0.372319</td>\n",
              "      <td>0.713588</td>\n",
              "      <td>0.014049</td>\n",
              "      <td>-0.040308</td>\n",
              "      <td>-0.105130</td>\n",
              "      <td>0.041449</td>\n",
              "      <td>0.051648</td>\n",
              "      <td>0.170575</td>\n",
              "      <td>0.075667</td>\n",
              "      <td>122.211321</td>\n",
              "    </tr>\n",
              "  </tbody>\n",
              "</table>\n",
              "<p>2 rows × 30 columns</p>\n",
              "</div>"
            ],
            "text/plain": [
              "               Time        V1        V2        V3        V4        V5  \\\n",
              "Class                                                                   \n",
              "0      94894.493902 -0.005318 -0.053724 -0.069328 -0.049915  0.022442   \n",
              "1      80746.806911 -4.771948  3.623778 -7.033281  4.542029 -3.151225   \n",
              "\n",
              "             V6        V7        V8        V9  ...       V20       V21  \\\n",
              "Class                                          ...                       \n",
              "0      0.001627  0.033571 -0.043619 -0.131781  ... -0.019470  0.020041   \n",
              "1     -1.397737 -5.568731  0.570636 -2.581123  ...  0.372319  0.713588   \n",
              "\n",
              "            V22       V23       V24       V25       V26       V27       V28  \\\n",
              "Class                                                                         \n",
              "0      0.021029 -0.005789 -0.016514  0.013873 -0.014395 -0.027772  0.018552   \n",
              "1      0.014049 -0.040308 -0.105130  0.041449  0.051648  0.170575  0.075667   \n",
              "\n",
              "           Amount  \n",
              "Class              \n",
              "0       97.838659  \n",
              "1      122.211321  \n",
              "\n",
              "[2 rows x 30 columns]"
            ]
          },
          "execution_count": 18,
          "metadata": {},
          "output_type": "execute_result"
        }
      ],
      "source": [
        "new_df.groupby('Class').mean()"
      ]
    },
    {
      "cell_type": "code",
      "execution_count": 19,
      "id": "8892a2f5",
      "metadata": {
        "id": "8892a2f5"
      },
      "outputs": [],
      "source": [
        "X = new_df.drop(columns='Class', axis=1)\n",
        "Y = new_df['Class']"
      ]
    },
    {
      "cell_type": "code",
      "execution_count": 20,
      "id": "9569f7ee",
      "metadata": {
        "id": "9569f7ee"
      },
      "outputs": [],
      "source": [
        "X_train, X_test, Y_train, Y_test = train_test_split(X, Y, test_size=0.2, stratify=Y, random_state=2)"
      ]
    },
    {
      "cell_type": "markdown",
      "id": "8b751cfb",
      "metadata": {
        "id": "8b751cfb"
      },
      "source": [
        "# Model Training\n",
        "\n",
        "Logistic Regression"
      ]
    },
    {
      "cell_type": "code",
      "execution_count": 21,
      "id": "78d8f7a2",
      "metadata": {},
      "outputs": [
        {
          "name": "stdout",
          "output_type": "stream",
          "text": [
            "SGD Logistic Regression Accuracy on Training data: 0.5006353240152478\n",
            "SGD Logistic Regression Accuracy on Test data: 0.49746192893401014\n"
          ]
        }
      ],
      "source": [
        "from sklearn.linear_model import SGDClassifier\n",
        "\n",
        "# Logistic Regression with SGD (to allow epochs and batch_size)\n",
        "sgd_logreg = SGDClassifier(loss='log_loss', max_iter=100, tol=1e-3, random_state=42)\n",
        "\n",
        "# Fit the model (batch_size is handled internally by SGDClassifier)\n",
        "sgd_logreg.fit(X_train, Y_train)\n",
        "\n",
        "# Accuracy on training data\n",
        "train_acc = sgd_logreg.score(X_train, Y_train)\n",
        "print('SGD Logistic Regression Accuracy on Training data:', train_acc)\n",
        "\n",
        "# Accuracy on test data\n",
        "test_acc = sgd_logreg.score(X_test, Y_test)\n",
        "print('SGD Logistic Regression Accuracy on Test data:', test_acc)"
      ]
    },
    {
      "cell_type": "code",
      "execution_count": 26,
      "id": "902b05c7",
      "metadata": {
        "colab": {
          "base_uri": "https://localhost:8080/"
        },
        "id": "902b05c7",
        "outputId": "6747ca8f-adcc-478a-ade4-2b6b6225d0a8"
      },
      "outputs": [
        {
          "name": "stdout",
          "output_type": "stream",
          "text": [
            "Accuracy on Training data :  0.9504447268106735\n",
            "Accuracy score on Test Data :  0.9187817258883249\n"
          ]
        },
        {
          "name": "stderr",
          "output_type": "stream",
          "text": [
            "c:\\Users\\SHAKIL\\AppData\\Local\\Programs\\Python\\Python312\\Lib\\site-packages\\sklearn\\linear_model\\_logistic.py:465: ConvergenceWarning: lbfgs failed to converge (status=1):\n",
            "STOP: TOTAL NO. of ITERATIONS REACHED LIMIT.\n",
            "\n",
            "Increase the number of iterations (max_iter) or scale the data as shown in:\n",
            "    https://scikit-learn.org/stable/modules/preprocessing.html\n",
            "Please also refer to the documentation for alternative solver options:\n",
            "    https://scikit-learn.org/stable/modules/linear_model.html#logistic-regression\n",
            "  n_iter_i = _check_optimize_result(\n"
          ]
        }
      ],
      "source": [
        "model=LogisticRegression()\n",
        "# training the Logistic Regression Model with Training Data\n",
        "model.fit(X_train, Y_train)\n",
        "# accuracy on training data\n",
        "X_train_prediction = model.predict(X_train)\n",
        "training_data_accuracy = accuracy_score(X_train_prediction, Y_train)\n",
        "print('Accuracy on Training data : ', training_data_accuracy)\n",
        "# accuracy on test data\n",
        "X_test_prediction = model.predict(X_test)\n",
        "test_data_accuracy = accuracy_score(X_test_prediction, Y_test)\n",
        "print('Accuracy score on Test Data : ', test_data_accuracy)"
      ]
    },
    {
      "cell_type": "markdown",
      "id": "821562_oXuYg",
      "metadata": {
        "id": "821562_oXuYg"
      },
      "source": [
        "SVM"
      ]
    },
    {
      "cell_type": "code",
      "execution_count": 27,
      "id": "8cf11231",
      "metadata": {},
      "outputs": [
        {
          "name": "stdout",
          "output_type": "stream",
          "text": [
            "SGD SVM Accuracy on Training data: 0.5006353240152478\n",
            "SGD SVM Accuracy on Test data: 0.49746192893401014\n"
          ]
        }
      ],
      "source": [
        "from sklearn.linear_model import SGDClassifier\n",
        "\n",
        "# SVM with SGD (to allow epochs=100)\n",
        "sgd_svm = SGDClassifier(loss='hinge', max_iter=100, tol=1e-3, random_state=42)\n",
        "sgd_svm.fit(X_train, Y_train)\n",
        "\n",
        "# Accuracy on training data\n",
        "train_acc_sgd_svm = sgd_svm.score(X_train, Y_train)\n",
        "print('SGD SVM Accuracy on Training data:', train_acc_sgd_svm)\n",
        "\n",
        "# Accuracy on test data\n",
        "test_acc_sgd_svm = sgd_svm.score(X_test, Y_test)\n",
        "print('SGD SVM Accuracy on Test data:', test_acc_sgd_svm)"
      ]
    },
    {
      "cell_type": "code",
      "execution_count": 23,
      "id": "07e7322e",
      "metadata": {
        "colab": {
          "base_uri": "https://localhost:8080/"
        },
        "id": "07e7322e",
        "outputId": "41ef732c-37eb-4b55-ac24-409a882a0e69"
      },
      "outputs": [
        {
          "name": "stdout",
          "output_type": "stream",
          "text": [
            "Accuracy on Training data (SVM):  0.9072426937738246\n",
            "Accuracy score on Test Data (SVM):  0.9137055837563451\n"
          ]
        }
      ],
      "source": [
        "\n",
        "from sklearn import svm\n",
        "\n",
        "# Support Vector Machine\n",
        "svm_model = svm.SVC(kernel='linear')\n",
        "\n",
        "# training the SVM Model with Training Data\n",
        "svm_model.fit(X_train, Y_train)\n",
        "\n",
        "# accuracy on training data\n",
        "X_train_prediction_svm = svm_model.predict(X_train)\n",
        "training_data_accuracy_svm = accuracy_score(X_train_prediction_svm, Y_train)\n",
        "print('Accuracy on Training data (SVM): ', training_data_accuracy_svm)\n",
        "\n",
        "# accuracy on test data\n",
        "X_test_prediction_svm = svm_model.predict(X_test)\n",
        "test_data_accuracy_svm = accuracy_score(X_test_prediction_svm, Y_test)\n",
        "print('Accuracy score on Test Data (SVM): ', test_data_accuracy_svm)"
      ]
    },
    {
      "cell_type": "code",
      "execution_count": 28,
      "id": "17212221",
      "metadata": {},
      "outputs": [
        {
          "name": "stdout",
          "output_type": "stream",
          "text": [
            "Accuracy on Training data (KNN): 0.7458703939008895\n",
            "Accuracy score on Test Data (KNN): 0.6751269035532995\n"
          ]
        }
      ],
      "source": [
        "from sklearn.neighbors import KNeighborsClassifier\n",
        "\n",
        "knn_model = KNeighborsClassifier(n_neighbors=5)\n",
        "knn_model.fit(X_train, Y_train)\n",
        "\n",
        "# Accuracy on training data\n",
        "X_train_prediction_knn = knn_model.predict(X_train)\n",
        "training_data_accuracy_knn = accuracy_score(X_train_prediction_knn, Y_train)\n",
        "print('Accuracy on Training data (KNN):', training_data_accuracy_knn)\n",
        "\n",
        "# Accuracy on test data\n",
        "X_test_prediction_knn = knn_model.predict(X_test)\n",
        "test_data_accuracy_knn = accuracy_score(X_test_prediction_knn, Y_test)\n",
        "print('Accuracy score on Test Data (KNN):', test_data_accuracy_knn)"
      ]
    },
    {
      "cell_type": "code",
      "execution_count": 31,
      "id": "440c3f71",
      "metadata": {},
      "outputs": [
        {
          "name": "stdout",
          "output_type": "stream",
          "text": [
            "Accuracy on Training data (Random Forest): 1.0\n",
            "Accuracy score on Test Data (Random Forest): 0.8984771573604061\n"
          ]
        }
      ],
      "source": [
        "from sklearn.ensemble import RandomForestClassifier\n",
        "\n",
        "# Create and train the Random Forest model\n",
        "rf_model = RandomForestClassifier(n_estimators=100, random_state=42)\n",
        "rf_model.fit(X_train, Y_train)\n",
        "\n",
        "# Accuracy on training data\n",
        "X_train_prediction_rf = rf_model.predict(X_train)\n",
        "training_data_accuracy_rf = accuracy_score(X_train_prediction_rf, Y_train)\n",
        "print('Accuracy on Training data (Random Forest):', training_data_accuracy_rf)\n",
        "\n",
        "# Accuracy on test data\n",
        "X_test_prediction_rf = rf_model.predict(X_test)\n",
        "test_data_accuracy_rf = accuracy_score(X_test_prediction_rf, Y_test)\n",
        "print('Accuracy score on Test Data (Random Forest):', test_data_accuracy_rf)"
      ]
    },
    {
      "cell_type": "code",
      "execution_count": 32,
      "id": "9bd6163f",
      "metadata": {},
      "outputs": [
        {
          "name": "stdout",
          "output_type": "stream",
          "text": [
            "Accuracy on Training data (Decision Tree): 1.0\n",
            "Accuracy score on Test Data (Decision Tree): 0.8883248730964467\n"
          ]
        }
      ],
      "source": [
        "from sklearn.tree import DecisionTreeClassifier\n",
        "\n",
        "# Create and train the Decision Tree model\n",
        "dtree = DecisionTreeClassifier(random_state=42)\n",
        "dtree.fit(X_train, Y_train)\n",
        "\n",
        "# Accuracy on training data\n",
        "X_train_prediction_dtree = dtree.predict(X_train)\n",
        "training_data_accuracy_dtree = accuracy_score(X_train_prediction_dtree, Y_train)\n",
        "print('Accuracy on Training data (Decision Tree):', training_data_accuracy_dtree)\n",
        "\n",
        "# Accuracy on test data\n",
        "X_test_prediction_dtree = dtree.predict(X_test)\n",
        "test_data_accuracy_dtree = accuracy_score(X_test_prediction_dtree, Y_test)\n",
        "print('Accuracy score on Test Data (Decision Tree):', test_data_accuracy_dtree)"
      ]
    },
    {
      "cell_type": "code",
      "execution_count": 35,
      "id": "73131ccc",
      "metadata": {},
      "outputs": [
        {
          "name": "stdout",
          "output_type": "stream",
          "text": [
            "Accuracy on Training data (XGBoost): 1.0\n",
            "Accuracy score on Test Data (XGBoost): 0.9238578680203046\n"
          ]
        }
      ],
      "source": [
        "from xgboost import XGBClassifier\n",
        "\n",
        "# Create and train the XGBoost model\n",
        "xgb_model = XGBClassifier(eval_metric='logloss', random_state=42)\n",
        "xgb_model.fit(X_train, Y_train)\n",
        "\n",
        "# Accuracy on training data\n",
        "X_train_prediction_xgb = xgb_model.predict(X_train)\n",
        "training_data_accuracy_xgb = accuracy_score(X_train_prediction_xgb, Y_train)\n",
        "print('Accuracy on Training data (XGBoost):', training_data_accuracy_xgb)\n",
        "\n",
        "# Accuracy on test data\n",
        "X_test_prediction_xgb = xgb_model.predict(X_test)\n",
        "test_data_accuracy_xgb = accuracy_score(X_test_prediction_xgb, Y_test)\n",
        "print('Accuracy score on Test Data (XGBoost):', test_data_accuracy_xgb)"
      ]
    },
    {
      "cell_type": "code",
      "execution_count": 36,
      "id": "8a256521",
      "metadata": {},
      "outputs": [
        {
          "name": "stderr",
          "output_type": "stream",
          "text": [
            "c:\\Users\\SHAKIL\\AppData\\Local\\Programs\\Python\\Python312\\Lib\\site-packages\\keras\\src\\layers\\core\\dense.py:93: UserWarning: Do not pass an `input_shape`/`input_dim` argument to a layer. When using Sequential models, prefer using an `Input(shape)` object as the first layer in the model instead.\n",
            "  super().__init__(activity_regularizer=activity_regularizer, **kwargs)\n"
          ]
        },
        {
          "name": "stdout",
          "output_type": "stream",
          "text": [
            "Keras Model Accuracy on Training data: 0.7191867828369141\n",
            "Keras Model Accuracy on Test data: 0.720812201499939\n"
          ]
        }
      ],
      "source": [
        "from tensorflow.keras.models import Sequential\n",
        "from tensorflow.keras.layers import Dense\n",
        "from tensorflow.keras.optimizers import Adam\n",
        "\n",
        "# Build a simple feedforward neural network\n",
        "model_keras = Sequential([\n",
        "    Dense(32, activation='relu', input_shape=(X_train.shape[1],)),\n",
        "    Dense(16, activation='relu'),\n",
        "    Dense(1, activation='sigmoid')\n",
        "])\n",
        "\n",
        "model_keras.compile(optimizer=Adam(), loss='binary_crossentropy', metrics=['accuracy'])\n",
        "\n",
        "# Train the model\n",
        "history = model_keras.fit(X_train, Y_train, epochs=100, batch_size=32, validation_data=(X_test, Y_test), verbose=0)\n",
        "\n",
        "# Evaluate on training data\n",
        "train_loss, train_acc_keras = model_keras.evaluate(X_train, Y_train, verbose=0)\n",
        "print('Keras Model Accuracy on Training data:', train_acc_keras)\n",
        "\n",
        "# Evaluate on test data\n",
        "test_loss, test_acc_keras = model_keras.evaluate(X_test, Y_test, verbose=0)\n",
        "print('Keras Model Accuracy on Test data:', test_acc_keras)"
      ]
    }
  ],
  "metadata": {
    "colab": {
      "provenance": []
    },
    "kernelspec": {
      "display_name": "Python 3",
      "language": "python",
      "name": "python3"
    },
    "language_info": {
      "codemirror_mode": {
        "name": "ipython",
        "version": 3
      },
      "file_extension": ".py",
      "mimetype": "text/x-python",
      "name": "python",
      "nbconvert_exporter": "python",
      "pygments_lexer": "ipython3",
      "version": "3.12.2"
    }
  },
  "nbformat": 4,
  "nbformat_minor": 5
}
