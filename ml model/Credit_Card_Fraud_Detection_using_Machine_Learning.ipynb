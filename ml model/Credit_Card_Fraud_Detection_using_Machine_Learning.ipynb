{
  "cells": [
    {
      "cell_type": "markdown",
      "id": "1bc52258",
      "metadata": {
        "id": "1bc52258"
      },
      "source": [
        "# Credit Card Fraud Detection using Machine Learning\n",
        "\n",
        "# About Data:\n",
        "This is a dataset containing credit card transactions with 31 features and a class label. The features represent various aspects of the transaction, and the class label indicates whether the transaction was fraudulent (class 1) or not (class 0).\n",
        "\n",
        "The first feature is \"Time\", which represents the number of seconds elapsed between the transaction and the first transaction in the dataset. The next 28 features, V1 to V28, are anonymized variables resulting from a principal component analysis (PCA) transformation of the original features. They represent different aspects of the transaction, such as the amount, location, and type of transaction.\n",
        "\n",
        "The second last feature is \"Amount\", which represents the transaction amount in USD. The last feature is the \"Class\" label, which indicates whether the transaction is fraudulent (class 1) or not (class 0).\n",
        "\n",
        "Overall, this dataset is used to train machine learning models to detect fraudulent transactions in real-time. The features are used to train the model to learn patterns in the data, which can then be used to detect fraudulent transactions in future transactions."
      ]
    },
    {
      "cell_type": "code",
      "execution_count": 2,
      "id": "2c13ced3",
      "metadata": {
        "id": "2c13ced3"
      },
      "outputs": [],
      "source": [
        "import numpy as np\n",
        "import pandas as pd\n",
        "from sklearn.model_selection import train_test_split\n",
        "from sklearn.linear_model import LogisticRegression\n",
        "from sklearn.metrics import accuracy_score"
      ]
    },
    {
      "cell_type": "code",
      "execution_count": 3,
      "id": "d83d2275",
      "metadata": {
        "colab": {
          "base_uri": "https://localhost:8080/",
          "height": 255
        },
        "id": "d83d2275",
        "outputId": "acb221f2-beef-44ad-b4b1-e97341615004"
      },
      "outputs": [
        {
          "data": {
            "text/html": [
              "<div>\n",
              "<style scoped>\n",
              "    .dataframe tbody tr th:only-of-type {\n",
              "        vertical-align: middle;\n",
              "    }\n",
              "\n",
              "    .dataframe tbody tr th {\n",
              "        vertical-align: top;\n",
              "    }\n",
              "\n",
              "    .dataframe thead th {\n",
              "        text-align: right;\n",
              "    }\n",
              "</style>\n",
              "<table border=\"1\" class=\"dataframe\">\n",
              "  <thead>\n",
              "    <tr style=\"text-align: right;\">\n",
              "      <th></th>\n",
              "      <th>Time</th>\n",
              "      <th>V1</th>\n",
              "      <th>V2</th>\n",
              "      <th>V3</th>\n",
              "      <th>V4</th>\n",
              "      <th>V5</th>\n",
              "      <th>V6</th>\n",
              "      <th>V7</th>\n",
              "      <th>V8</th>\n",
              "      <th>V9</th>\n",
              "      <th>...</th>\n",
              "      <th>V21</th>\n",
              "      <th>V22</th>\n",
              "      <th>V23</th>\n",
              "      <th>V24</th>\n",
              "      <th>V25</th>\n",
              "      <th>V26</th>\n",
              "      <th>V27</th>\n",
              "      <th>V28</th>\n",
              "      <th>Amount</th>\n",
              "      <th>Class</th>\n",
              "    </tr>\n",
              "  </thead>\n",
              "  <tbody>\n",
              "    <tr>\n",
              "      <th>0</th>\n",
              "      <td>0.0</td>\n",
              "      <td>-1.359807</td>\n",
              "      <td>-0.072781</td>\n",
              "      <td>2.536347</td>\n",
              "      <td>1.378155</td>\n",
              "      <td>-0.338321</td>\n",
              "      <td>0.462388</td>\n",
              "      <td>0.239599</td>\n",
              "      <td>0.098698</td>\n",
              "      <td>0.363787</td>\n",
              "      <td>...</td>\n",
              "      <td>-0.018307</td>\n",
              "      <td>0.277838</td>\n",
              "      <td>-0.110474</td>\n",
              "      <td>0.066928</td>\n",
              "      <td>0.128539</td>\n",
              "      <td>-0.189115</td>\n",
              "      <td>0.133558</td>\n",
              "      <td>-0.021053</td>\n",
              "      <td>149.62</td>\n",
              "      <td>0</td>\n",
              "    </tr>\n",
              "    <tr>\n",
              "      <th>1</th>\n",
              "      <td>0.0</td>\n",
              "      <td>1.191857</td>\n",
              "      <td>0.266151</td>\n",
              "      <td>0.166480</td>\n",
              "      <td>0.448154</td>\n",
              "      <td>0.060018</td>\n",
              "      <td>-0.082361</td>\n",
              "      <td>-0.078803</td>\n",
              "      <td>0.085102</td>\n",
              "      <td>-0.255425</td>\n",
              "      <td>...</td>\n",
              "      <td>-0.225775</td>\n",
              "      <td>-0.638672</td>\n",
              "      <td>0.101288</td>\n",
              "      <td>-0.339846</td>\n",
              "      <td>0.167170</td>\n",
              "      <td>0.125895</td>\n",
              "      <td>-0.008983</td>\n",
              "      <td>0.014724</td>\n",
              "      <td>2.69</td>\n",
              "      <td>0</td>\n",
              "    </tr>\n",
              "    <tr>\n",
              "      <th>2</th>\n",
              "      <td>1.0</td>\n",
              "      <td>-1.358354</td>\n",
              "      <td>-1.340163</td>\n",
              "      <td>1.773209</td>\n",
              "      <td>0.379780</td>\n",
              "      <td>-0.503198</td>\n",
              "      <td>1.800499</td>\n",
              "      <td>0.791461</td>\n",
              "      <td>0.247676</td>\n",
              "      <td>-1.514654</td>\n",
              "      <td>...</td>\n",
              "      <td>0.247998</td>\n",
              "      <td>0.771679</td>\n",
              "      <td>0.909412</td>\n",
              "      <td>-0.689281</td>\n",
              "      <td>-0.327642</td>\n",
              "      <td>-0.139097</td>\n",
              "      <td>-0.055353</td>\n",
              "      <td>-0.059752</td>\n",
              "      <td>378.66</td>\n",
              "      <td>0</td>\n",
              "    </tr>\n",
              "    <tr>\n",
              "      <th>3</th>\n",
              "      <td>1.0</td>\n",
              "      <td>-0.966272</td>\n",
              "      <td>-0.185226</td>\n",
              "      <td>1.792993</td>\n",
              "      <td>-0.863291</td>\n",
              "      <td>-0.010309</td>\n",
              "      <td>1.247203</td>\n",
              "      <td>0.237609</td>\n",
              "      <td>0.377436</td>\n",
              "      <td>-1.387024</td>\n",
              "      <td>...</td>\n",
              "      <td>-0.108300</td>\n",
              "      <td>0.005274</td>\n",
              "      <td>-0.190321</td>\n",
              "      <td>-1.175575</td>\n",
              "      <td>0.647376</td>\n",
              "      <td>-0.221929</td>\n",
              "      <td>0.062723</td>\n",
              "      <td>0.061458</td>\n",
              "      <td>123.50</td>\n",
              "      <td>0</td>\n",
              "    </tr>\n",
              "    <tr>\n",
              "      <th>4</th>\n",
              "      <td>2.0</td>\n",
              "      <td>-1.158233</td>\n",
              "      <td>0.877737</td>\n",
              "      <td>1.548718</td>\n",
              "      <td>0.403034</td>\n",
              "      <td>-0.407193</td>\n",
              "      <td>0.095921</td>\n",
              "      <td>0.592941</td>\n",
              "      <td>-0.270533</td>\n",
              "      <td>0.817739</td>\n",
              "      <td>...</td>\n",
              "      <td>-0.009431</td>\n",
              "      <td>0.798278</td>\n",
              "      <td>-0.137458</td>\n",
              "      <td>0.141267</td>\n",
              "      <td>-0.206010</td>\n",
              "      <td>0.502292</td>\n",
              "      <td>0.219422</td>\n",
              "      <td>0.215153</td>\n",
              "      <td>69.99</td>\n",
              "      <td>0</td>\n",
              "    </tr>\n",
              "  </tbody>\n",
              "</table>\n",
              "<p>5 rows × 31 columns</p>\n",
              "</div>"
            ],
            "text/plain": [
              "   Time        V1        V2        V3        V4        V5        V6        V7  \\\n",
              "0   0.0 -1.359807 -0.072781  2.536347  1.378155 -0.338321  0.462388  0.239599   \n",
              "1   0.0  1.191857  0.266151  0.166480  0.448154  0.060018 -0.082361 -0.078803   \n",
              "2   1.0 -1.358354 -1.340163  1.773209  0.379780 -0.503198  1.800499  0.791461   \n",
              "3   1.0 -0.966272 -0.185226  1.792993 -0.863291 -0.010309  1.247203  0.237609   \n",
              "4   2.0 -1.158233  0.877737  1.548718  0.403034 -0.407193  0.095921  0.592941   \n",
              "\n",
              "         V8        V9  ...       V21       V22       V23       V24       V25  \\\n",
              "0  0.098698  0.363787  ... -0.018307  0.277838 -0.110474  0.066928  0.128539   \n",
              "1  0.085102 -0.255425  ... -0.225775 -0.638672  0.101288 -0.339846  0.167170   \n",
              "2  0.247676 -1.514654  ...  0.247998  0.771679  0.909412 -0.689281 -0.327642   \n",
              "3  0.377436 -1.387024  ... -0.108300  0.005274 -0.190321 -1.175575  0.647376   \n",
              "4 -0.270533  0.817739  ... -0.009431  0.798278 -0.137458  0.141267 -0.206010   \n",
              "\n",
              "        V26       V27       V28  Amount  Class  \n",
              "0 -0.189115  0.133558 -0.021053  149.62      0  \n",
              "1  0.125895 -0.008983  0.014724    2.69      0  \n",
              "2 -0.139097 -0.055353 -0.059752  378.66      0  \n",
              "3 -0.221929  0.062723  0.061458  123.50      0  \n",
              "4  0.502292  0.219422  0.215153   69.99      0  \n",
              "\n",
              "[5 rows x 31 columns]"
            ]
          },
          "execution_count": 3,
          "metadata": {},
          "output_type": "execute_result"
        }
      ],
      "source": [
        "credit_card_data = pd.read_csv('creditcard.csv')\n",
        "credit_card_data.head(5)"
      ]
    },
    {
      "cell_type": "code",
      "execution_count": 4,
      "id": "753bd152",
      "metadata": {
        "colab": {
          "base_uri": "https://localhost:8080/",
          "height": 130
        },
        "id": "753bd152",
        "outputId": "81a7f186-d9c4-493b-f6c2-ef02a9ee358a"
      },
      "outputs": [
        {
          "data": {
            "text/html": [
              "<div>\n",
              "<style scoped>\n",
              "    .dataframe tbody tr th:only-of-type {\n",
              "        vertical-align: middle;\n",
              "    }\n",
              "\n",
              "    .dataframe tbody tr th {\n",
              "        vertical-align: top;\n",
              "    }\n",
              "\n",
              "    .dataframe thead th {\n",
              "        text-align: right;\n",
              "    }\n",
              "</style>\n",
              "<table border=\"1\" class=\"dataframe\">\n",
              "  <thead>\n",
              "    <tr style=\"text-align: right;\">\n",
              "      <th></th>\n",
              "      <th>Time</th>\n",
              "      <th>V1</th>\n",
              "      <th>V2</th>\n",
              "      <th>V3</th>\n",
              "      <th>V4</th>\n",
              "      <th>V5</th>\n",
              "      <th>V6</th>\n",
              "      <th>V7</th>\n",
              "      <th>V8</th>\n",
              "      <th>V9</th>\n",
              "      <th>...</th>\n",
              "      <th>V21</th>\n",
              "      <th>V22</th>\n",
              "      <th>V23</th>\n",
              "      <th>V24</th>\n",
              "      <th>V25</th>\n",
              "      <th>V26</th>\n",
              "      <th>V27</th>\n",
              "      <th>V28</th>\n",
              "      <th>Amount</th>\n",
              "      <th>Class</th>\n",
              "    </tr>\n",
              "  </thead>\n",
              "  <tbody>\n",
              "    <tr>\n",
              "      <th>51169</th>\n",
              "      <td>44825.0</td>\n",
              "      <td>-0.53798</td>\n",
              "      <td>0.425643</td>\n",
              "      <td>0.32431</td>\n",
              "      <td>-1.630769</td>\n",
              "      <td>2.917555</td>\n",
              "      <td>3.222399</td>\n",
              "      <td>0.38508</td>\n",
              "      <td>0.682322</td>\n",
              "      <td>-0.475536</td>\n",
              "      <td>...</td>\n",
              "      <td>-0.261012</td>\n",
              "      <td>-0.890899</td>\n",
              "      <td>-0.104308</td>\n",
              "      <td>0.978814</td>\n",
              "      <td>-0.039591</td>\n",
              "      <td>-0.06913</td>\n",
              "      <td>-0.130644</td>\n",
              "      <td>-0.120316</td>\n",
              "      <td>8.98</td>\n",
              "      <td>0</td>\n",
              "    </tr>\n",
              "  </tbody>\n",
              "</table>\n",
              "<p>1 rows × 31 columns</p>\n",
              "</div>"
            ],
            "text/plain": [
              "          Time       V1        V2       V3        V4        V5        V6  \\\n",
              "51169  44825.0 -0.53798  0.425643  0.32431 -1.630769  2.917555  3.222399   \n",
              "\n",
              "            V7        V8        V9  ...       V21       V22       V23  \\\n",
              "51169  0.38508  0.682322 -0.475536  ... -0.261012 -0.890899 -0.104308   \n",
              "\n",
              "            V24       V25      V26       V27       V28  Amount  Class  \n",
              "51169  0.978814 -0.039591 -0.06913 -0.130644 -0.120316    8.98      0  \n",
              "\n",
              "[1 rows x 31 columns]"
            ]
          },
          "execution_count": 4,
          "metadata": {},
          "output_type": "execute_result"
        }
      ],
      "source": [
        "credit_card_data.sample()"
      ]
    },
    {
      "cell_type": "code",
      "execution_count": 5,
      "id": "83846109",
      "metadata": {
        "colab": {
          "base_uri": "https://localhost:8080/"
        },
        "id": "83846109",
        "outputId": "a4d3cdd2-6b96-4ce9-b2b5-3d4eb2a3e51a"
      },
      "outputs": [
        {
          "name": "stdout",
          "output_type": "stream",
          "text": [
            "<class 'pandas.core.frame.DataFrame'>\n",
            "RangeIndex: 284807 entries, 0 to 284806\n",
            "Data columns (total 31 columns):\n",
            " #   Column  Non-Null Count   Dtype  \n",
            "---  ------  --------------   -----  \n",
            " 0   Time    284807 non-null  float64\n",
            " 1   V1      284807 non-null  float64\n",
            " 2   V2      284807 non-null  float64\n",
            " 3   V3      284807 non-null  float64\n",
            " 4   V4      284807 non-null  float64\n",
            " 5   V5      284807 non-null  float64\n",
            " 6   V6      284807 non-null  float64\n",
            " 7   V7      284807 non-null  float64\n",
            " 8   V8      284807 non-null  float64\n",
            " 9   V9      284807 non-null  float64\n",
            " 10  V10     284807 non-null  float64\n",
            " 11  V11     284807 non-null  float64\n",
            " 12  V12     284807 non-null  float64\n",
            " 13  V13     284807 non-null  float64\n",
            " 14  V14     284807 non-null  float64\n",
            " 15  V15     284807 non-null  float64\n",
            " 16  V16     284807 non-null  float64\n",
            " 17  V17     284807 non-null  float64\n",
            " 18  V18     284807 non-null  float64\n",
            " 19  V19     284807 non-null  float64\n",
            " 20  V20     284807 non-null  float64\n",
            " 21  V21     284807 non-null  float64\n",
            " 22  V22     284807 non-null  float64\n",
            " 23  V23     284807 non-null  float64\n",
            " 24  V24     284807 non-null  float64\n",
            " 25  V25     284807 non-null  float64\n",
            " 26  V26     284807 non-null  float64\n",
            " 27  V27     284807 non-null  float64\n",
            " 28  V28     284807 non-null  float64\n",
            " 29  Amount  284807 non-null  float64\n",
            " 30  Class   284807 non-null  int64  \n",
            "dtypes: float64(30), int64(1)\n",
            "memory usage: 67.4 MB\n"
          ]
        }
      ],
      "source": [
        "# dataset informations\n",
        "credit_card_data.info()"
      ]
    },
    {
      "cell_type": "code",
      "execution_count": 6,
      "id": "246b4366",
      "metadata": {
        "colab": {
          "base_uri": "https://localhost:8080/",
          "height": 1000
        },
        "id": "246b4366",
        "outputId": "fa609fad-3f93-4e63-ab80-c3de00be8e6b"
      },
      "outputs": [
        {
          "data": {
            "text/plain": [
              "Time      0\n",
              "V1        0\n",
              "V2        0\n",
              "V3        0\n",
              "V4        0\n",
              "V5        0\n",
              "V6        0\n",
              "V7        0\n",
              "V8        0\n",
              "V9        0\n",
              "V10       0\n",
              "V11       0\n",
              "V12       0\n",
              "V13       0\n",
              "V14       0\n",
              "V15       0\n",
              "V16       0\n",
              "V17       0\n",
              "V18       0\n",
              "V19       0\n",
              "V20       0\n",
              "V21       0\n",
              "V22       0\n",
              "V23       0\n",
              "V24       0\n",
              "V25       0\n",
              "V26       0\n",
              "V27       0\n",
              "V28       0\n",
              "Amount    0\n",
              "Class     0\n",
              "dtype: int64"
            ]
          },
          "execution_count": 6,
          "metadata": {},
          "output_type": "execute_result"
        }
      ],
      "source": [
        "# checking the number of missing values in each column\n",
        "credit_card_data.isnull().sum()"
      ]
    },
    {
      "cell_type": "code",
      "execution_count": 7,
      "id": "fb438397",
      "metadata": {
        "colab": {
          "base_uri": "https://localhost:8080/",
          "height": 178
        },
        "id": "fb438397",
        "outputId": "082c6e49-fb9c-4755-82d0-5a72d4fb54a3"
      },
      "outputs": [
        {
          "data": {
            "text/plain": [
              "Class\n",
              "0    284315\n",
              "1       492\n",
              "Name: count, dtype: int64"
            ]
          },
          "execution_count": 7,
          "metadata": {},
          "output_type": "execute_result"
        }
      ],
      "source": [
        "# distribution of legit transactions & fraudulent transactions\n",
        "credit_card_data['Class'].value_counts()"
      ]
    },
    {
      "cell_type": "markdown",
      "id": "3b167208",
      "metadata": {
        "id": "3b167208"
      },
      "source": [
        "This Dataset is highly unblanced\n",
        "\n",
        "0 --> Normal Transaction\n",
        "\n",
        "1 --> fraudulent transaction\n",
        "\n",
        "The first line of code creates a new dataframe called \"legit\" by selecting only the rows from the original \"credit_card_data\" dataframe where the \"Class\" label is equal to 0. In other words, it filters out all transactions labeled as fraudulent (Class == 1) and keeps only the legitimate transactions (Class == 0).\n",
        "\n",
        "The second line of code creates a new dataframe called \"fraud\" by selecting only the rows from the original \"credit_card_data\" dataframe where the \"Class\" label is equal to 1. This filters out all legitimate transactions and keeps only the fraudulent transactions.\n",
        "\n",
        "By separating the data into two dataframes, it becomes easier to analyze and compare the characteristics of legitimate and fraudulent transactions separately. This can be useful for identifying patterns or features that are more common in fraudulent transactions, which can then be used to develop models for fraud detection."
      ]
    },
    {
      "cell_type": "code",
      "execution_count": 8,
      "id": "fb0236ee",
      "metadata": {
        "id": "fb0236ee"
      },
      "outputs": [],
      "source": [
        "legit = credit_card_data[credit_card_data.Class==0]\n",
        "fraud = credit_card_data[credit_card_data['Class']==1]"
      ]
    },
    {
      "cell_type": "code",
      "execution_count": 9,
      "id": "be752bdf",
      "metadata": {
        "colab": {
          "base_uri": "https://localhost:8080/",
          "height": 458
        },
        "id": "be752bdf",
        "outputId": "732d24aa-9ce6-44b5-ced1-af0f7ed12471"
      },
      "outputs": [
        {
          "data": {
            "text/plain": [
              "541       1\n",
              "623       1\n",
              "4920      1\n",
              "6108      1\n",
              "6329      1\n",
              "         ..\n",
              "279863    1\n",
              "280143    1\n",
              "280149    1\n",
              "281144    1\n",
              "281674    1\n",
              "Name: Class, Length: 492, dtype: int64"
            ]
          },
          "execution_count": 9,
          "metadata": {},
          "output_type": "execute_result"
        }
      ],
      "source": [
        "fraud['Class']"
      ]
    },
    {
      "cell_type": "code",
      "execution_count": 10,
      "id": "e2ca0549",
      "metadata": {
        "colab": {
          "base_uri": "https://localhost:8080/",
          "height": 335
        },
        "id": "e2ca0549",
        "outputId": "68626a68-4dc4-4244-b4b8-21d3bc2edd03"
      },
      "outputs": [
        {
          "data": {
            "text/plain": [
              "count    284315.000000\n",
              "mean         88.291022\n",
              "std         250.105092\n",
              "min           0.000000\n",
              "25%           5.650000\n",
              "50%          22.000000\n",
              "75%          77.050000\n",
              "max       25691.160000\n",
              "Name: Amount, dtype: float64"
            ]
          },
          "execution_count": 10,
          "metadata": {},
          "output_type": "execute_result"
        }
      ],
      "source": [
        "# statistical measures of the data\n",
        "legit.Amount.describe()"
      ]
    },
    {
      "cell_type": "code",
      "execution_count": 11,
      "id": "c3b86b23",
      "metadata": {
        "colab": {
          "base_uri": "https://localhost:8080/",
          "height": 335
        },
        "id": "c3b86b23",
        "outputId": "f750494e-e522-422d-af4d-f320fa938529"
      },
      "outputs": [
        {
          "data": {
            "text/plain": [
              "count     492.000000\n",
              "mean      122.211321\n",
              "std       256.683288\n",
              "min         0.000000\n",
              "25%         1.000000\n",
              "50%         9.250000\n",
              "75%       105.890000\n",
              "max      2125.870000\n",
              "Name: Amount, dtype: float64"
            ]
          },
          "execution_count": 11,
          "metadata": {},
          "output_type": "execute_result"
        }
      ],
      "source": [
        "fraud.Amount.describe()"
      ]
    },
    {
      "cell_type": "code",
      "execution_count": 12,
      "id": "6e206b0f",
      "metadata": {
        "colab": {
          "base_uri": "https://localhost:8080/",
          "height": 192
        },
        "id": "6e206b0f",
        "outputId": "f8534206-411e-4815-c571-8f740c95815a"
      },
      "outputs": [
        {
          "data": {
            "text/html": [
              "<div>\n",
              "<style scoped>\n",
              "    .dataframe tbody tr th:only-of-type {\n",
              "        vertical-align: middle;\n",
              "    }\n",
              "\n",
              "    .dataframe tbody tr th {\n",
              "        vertical-align: top;\n",
              "    }\n",
              "\n",
              "    .dataframe thead th {\n",
              "        text-align: right;\n",
              "    }\n",
              "</style>\n",
              "<table border=\"1\" class=\"dataframe\">\n",
              "  <thead>\n",
              "    <tr style=\"text-align: right;\">\n",
              "      <th></th>\n",
              "      <th>Time</th>\n",
              "      <th>V1</th>\n",
              "      <th>V2</th>\n",
              "      <th>V3</th>\n",
              "      <th>V4</th>\n",
              "      <th>V5</th>\n",
              "      <th>V6</th>\n",
              "      <th>V7</th>\n",
              "      <th>V8</th>\n",
              "      <th>V9</th>\n",
              "      <th>...</th>\n",
              "      <th>V20</th>\n",
              "      <th>V21</th>\n",
              "      <th>V22</th>\n",
              "      <th>V23</th>\n",
              "      <th>V24</th>\n",
              "      <th>V25</th>\n",
              "      <th>V26</th>\n",
              "      <th>V27</th>\n",
              "      <th>V28</th>\n",
              "      <th>Amount</th>\n",
              "    </tr>\n",
              "    <tr>\n",
              "      <th>Class</th>\n",
              "      <th></th>\n",
              "      <th></th>\n",
              "      <th></th>\n",
              "      <th></th>\n",
              "      <th></th>\n",
              "      <th></th>\n",
              "      <th></th>\n",
              "      <th></th>\n",
              "      <th></th>\n",
              "      <th></th>\n",
              "      <th></th>\n",
              "      <th></th>\n",
              "      <th></th>\n",
              "      <th></th>\n",
              "      <th></th>\n",
              "      <th></th>\n",
              "      <th></th>\n",
              "      <th></th>\n",
              "      <th></th>\n",
              "      <th></th>\n",
              "      <th></th>\n",
              "    </tr>\n",
              "  </thead>\n",
              "  <tbody>\n",
              "    <tr>\n",
              "      <th>0</th>\n",
              "      <td>94838.202258</td>\n",
              "      <td>0.008258</td>\n",
              "      <td>-0.006271</td>\n",
              "      <td>0.012171</td>\n",
              "      <td>-0.007860</td>\n",
              "      <td>0.005453</td>\n",
              "      <td>0.002419</td>\n",
              "      <td>0.009637</td>\n",
              "      <td>-0.000987</td>\n",
              "      <td>0.004467</td>\n",
              "      <td>...</td>\n",
              "      <td>-0.000644</td>\n",
              "      <td>-0.001235</td>\n",
              "      <td>-0.000024</td>\n",
              "      <td>0.000070</td>\n",
              "      <td>0.000182</td>\n",
              "      <td>-0.000072</td>\n",
              "      <td>-0.000089</td>\n",
              "      <td>-0.000295</td>\n",
              "      <td>-0.000131</td>\n",
              "      <td>88.291022</td>\n",
              "    </tr>\n",
              "    <tr>\n",
              "      <th>1</th>\n",
              "      <td>80746.806911</td>\n",
              "      <td>-4.771948</td>\n",
              "      <td>3.623778</td>\n",
              "      <td>-7.033281</td>\n",
              "      <td>4.542029</td>\n",
              "      <td>-3.151225</td>\n",
              "      <td>-1.397737</td>\n",
              "      <td>-5.568731</td>\n",
              "      <td>0.570636</td>\n",
              "      <td>-2.581123</td>\n",
              "      <td>...</td>\n",
              "      <td>0.372319</td>\n",
              "      <td>0.713588</td>\n",
              "      <td>0.014049</td>\n",
              "      <td>-0.040308</td>\n",
              "      <td>-0.105130</td>\n",
              "      <td>0.041449</td>\n",
              "      <td>0.051648</td>\n",
              "      <td>0.170575</td>\n",
              "      <td>0.075667</td>\n",
              "      <td>122.211321</td>\n",
              "    </tr>\n",
              "  </tbody>\n",
              "</table>\n",
              "<p>2 rows × 30 columns</p>\n",
              "</div>"
            ],
            "text/plain": [
              "               Time        V1        V2        V3        V4        V5  \\\n",
              "Class                                                                   \n",
              "0      94838.202258  0.008258 -0.006271  0.012171 -0.007860  0.005453   \n",
              "1      80746.806911 -4.771948  3.623778 -7.033281  4.542029 -3.151225   \n",
              "\n",
              "             V6        V7        V8        V9  ...       V20       V21  \\\n",
              "Class                                          ...                       \n",
              "0      0.002419  0.009637 -0.000987  0.004467  ... -0.000644 -0.001235   \n",
              "1     -1.397737 -5.568731  0.570636 -2.581123  ...  0.372319  0.713588   \n",
              "\n",
              "            V22       V23       V24       V25       V26       V27       V28  \\\n",
              "Class                                                                         \n",
              "0     -0.000024  0.000070  0.000182 -0.000072 -0.000089 -0.000295 -0.000131   \n",
              "1      0.014049 -0.040308 -0.105130  0.041449  0.051648  0.170575  0.075667   \n",
              "\n",
              "           Amount  \n",
              "Class              \n",
              "0       88.291022  \n",
              "1      122.211321  \n",
              "\n",
              "[2 rows x 30 columns]"
            ]
          },
          "execution_count": 12,
          "metadata": {},
          "output_type": "execute_result"
        }
      ],
      "source": [
        "# compare the values for both transactions\n",
        "credit_card_data.groupby('Class').mean()"
      ]
    },
    {
      "cell_type": "markdown",
      "id": "d8cc7668",
      "metadata": {
        "id": "d8cc7668"
      },
      "source": [
        "Build a sample dataset containing similar distribution of normal transactions and Fraudulent Transactions\n",
        "\n",
        "Number of Fraudulent Transactions --> 492"
      ]
    },
    {
      "cell_type": "markdown",
      "id": "613f6166",
      "metadata": {
        "id": "613f6166"
      },
      "source": [
        "legit_sample = legit.sample(n=492) is a line of code that takes a random sample of 492 observations from the legit dataset. This is done to balance the number of observations in the legit and fraud datasets, which is necessary for training a machine learning model to predict fraud. Since the original dataset has a large number of legitimate transactions and a small number of fraudulent transactions, the model may be biased towards predicting that all transactions are legitimate. By creating a balanced dataset with an equal number of legitimate and fraudulent transactions, the model can be trained to better recognize the patterns that differentiate fraudulent transactions from legitimate ones"
      ]
    },
    {
      "cell_type": "code",
      "execution_count": 13,
      "id": "bb7b80c4",
      "metadata": {
        "id": "bb7b80c4"
      },
      "outputs": [],
      "source": [
        "legit_sample = legit.sample(n=492)"
      ]
    },
    {
      "cell_type": "code",
      "execution_count": 14,
      "id": "34c16888",
      "metadata": {
        "id": "34c16888"
      },
      "outputs": [],
      "source": [
        "new_df = pd.concat([legit_sample,fraud],axis=0)"
      ]
    },
    {
      "cell_type": "code",
      "execution_count": 15,
      "id": "87718b97",
      "metadata": {
        "colab": {
          "base_uri": "https://localhost:8080/",
          "height": 443
        },
        "id": "87718b97",
        "outputId": "87ee4d54-bfae-41bc-e952-7e18aa2fb36f"
      },
      "outputs": [
        {
          "data": {
            "text/html": [
              "<div>\n",
              "<style scoped>\n",
              "    .dataframe tbody tr th:only-of-type {\n",
              "        vertical-align: middle;\n",
              "    }\n",
              "\n",
              "    .dataframe tbody tr th {\n",
              "        vertical-align: top;\n",
              "    }\n",
              "\n",
              "    .dataframe thead th {\n",
              "        text-align: right;\n",
              "    }\n",
              "</style>\n",
              "<table border=\"1\" class=\"dataframe\">\n",
              "  <thead>\n",
              "    <tr style=\"text-align: right;\">\n",
              "      <th></th>\n",
              "      <th>Time</th>\n",
              "      <th>V1</th>\n",
              "      <th>V2</th>\n",
              "      <th>V3</th>\n",
              "      <th>V4</th>\n",
              "      <th>V5</th>\n",
              "      <th>V6</th>\n",
              "      <th>V7</th>\n",
              "      <th>V8</th>\n",
              "      <th>V9</th>\n",
              "      <th>...</th>\n",
              "      <th>V21</th>\n",
              "      <th>V22</th>\n",
              "      <th>V23</th>\n",
              "      <th>V24</th>\n",
              "      <th>V25</th>\n",
              "      <th>V26</th>\n",
              "      <th>V27</th>\n",
              "      <th>V28</th>\n",
              "      <th>Amount</th>\n",
              "      <th>Class</th>\n",
              "    </tr>\n",
              "  </thead>\n",
              "  <tbody>\n",
              "    <tr>\n",
              "      <th>100166</th>\n",
              "      <td>67439.0</td>\n",
              "      <td>1.231392</td>\n",
              "      <td>0.456721</td>\n",
              "      <td>0.119812</td>\n",
              "      <td>1.119747</td>\n",
              "      <td>-0.056764</td>\n",
              "      <td>-1.048124</td>\n",
              "      <td>0.466232</td>\n",
              "      <td>-0.347707</td>\n",
              "      <td>-0.284420</td>\n",
              "      <td>...</td>\n",
              "      <td>-0.010389</td>\n",
              "      <td>0.033606</td>\n",
              "      <td>-0.118439</td>\n",
              "      <td>0.403716</td>\n",
              "      <td>0.757215</td>\n",
              "      <td>-0.362165</td>\n",
              "      <td>0.007450</td>\n",
              "      <td>0.021077</td>\n",
              "      <td>17.46</td>\n",
              "      <td>0</td>\n",
              "    </tr>\n",
              "    <tr>\n",
              "      <th>4326</th>\n",
              "      <td>3760.0</td>\n",
              "      <td>1.401276</td>\n",
              "      <td>-0.683958</td>\n",
              "      <td>-0.915143</td>\n",
              "      <td>-1.616304</td>\n",
              "      <td>1.458234</td>\n",
              "      <td>3.274761</td>\n",
              "      <td>-1.170329</td>\n",
              "      <td>0.710345</td>\n",
              "      <td>0.360104</td>\n",
              "      <td>...</td>\n",
              "      <td>-0.278087</td>\n",
              "      <td>-0.898279</td>\n",
              "      <td>0.081211</td>\n",
              "      <td>0.920023</td>\n",
              "      <td>0.357016</td>\n",
              "      <td>-0.508385</td>\n",
              "      <td>-0.019937</td>\n",
              "      <td>0.015447</td>\n",
              "      <td>42.00</td>\n",
              "      <td>0</td>\n",
              "    </tr>\n",
              "    <tr>\n",
              "      <th>250909</th>\n",
              "      <td>155124.0</td>\n",
              "      <td>2.107170</td>\n",
              "      <td>-0.083080</td>\n",
              "      <td>-1.384193</td>\n",
              "      <td>0.243143</td>\n",
              "      <td>0.219118</td>\n",
              "      <td>-0.781873</td>\n",
              "      <td>0.174728</td>\n",
              "      <td>-0.288366</td>\n",
              "      <td>0.591441</td>\n",
              "      <td>...</td>\n",
              "      <td>-0.336084</td>\n",
              "      <td>-0.839181</td>\n",
              "      <td>0.243466</td>\n",
              "      <td>-0.715377</td>\n",
              "      <td>-0.199308</td>\n",
              "      <td>0.242098</td>\n",
              "      <td>-0.072462</td>\n",
              "      <td>-0.066817</td>\n",
              "      <td>5.99</td>\n",
              "      <td>0</td>\n",
              "    </tr>\n",
              "    <tr>\n",
              "      <th>283859</th>\n",
              "      <td>171933.0</td>\n",
              "      <td>2.219537</td>\n",
              "      <td>-0.522871</td>\n",
              "      <td>-1.420302</td>\n",
              "      <td>-0.924451</td>\n",
              "      <td>-0.337605</td>\n",
              "      <td>-1.415039</td>\n",
              "      <td>-0.050859</td>\n",
              "      <td>-0.498773</td>\n",
              "      <td>-0.843595</td>\n",
              "      <td>...</td>\n",
              "      <td>0.065885</td>\n",
              "      <td>0.188144</td>\n",
              "      <td>0.196979</td>\n",
              "      <td>-0.057347</td>\n",
              "      <td>-0.039596</td>\n",
              "      <td>-0.310990</td>\n",
              "      <td>-0.039283</td>\n",
              "      <td>-0.060392</td>\n",
              "      <td>17.99</td>\n",
              "      <td>0</td>\n",
              "    </tr>\n",
              "    <tr>\n",
              "      <th>18777</th>\n",
              "      <td>29755.0</td>\n",
              "      <td>1.269032</td>\n",
              "      <td>0.188296</td>\n",
              "      <td>-0.054703</td>\n",
              "      <td>0.453526</td>\n",
              "      <td>-0.095770</td>\n",
              "      <td>-0.689943</td>\n",
              "      <td>0.148671</td>\n",
              "      <td>-0.091481</td>\n",
              "      <td>-0.208662</td>\n",
              "      <td>...</td>\n",
              "      <td>-0.039536</td>\n",
              "      <td>-0.149271</td>\n",
              "      <td>-0.099477</td>\n",
              "      <td>0.015003</td>\n",
              "      <td>0.554675</td>\n",
              "      <td>0.373752</td>\n",
              "      <td>-0.061152</td>\n",
              "      <td>-0.009992</td>\n",
              "      <td>1.23</td>\n",
              "      <td>0</td>\n",
              "    </tr>\n",
              "    <tr>\n",
              "      <th>...</th>\n",
              "      <td>...</td>\n",
              "      <td>...</td>\n",
              "      <td>...</td>\n",
              "      <td>...</td>\n",
              "      <td>...</td>\n",
              "      <td>...</td>\n",
              "      <td>...</td>\n",
              "      <td>...</td>\n",
              "      <td>...</td>\n",
              "      <td>...</td>\n",
              "      <td>...</td>\n",
              "      <td>...</td>\n",
              "      <td>...</td>\n",
              "      <td>...</td>\n",
              "      <td>...</td>\n",
              "      <td>...</td>\n",
              "      <td>...</td>\n",
              "      <td>...</td>\n",
              "      <td>...</td>\n",
              "      <td>...</td>\n",
              "      <td>...</td>\n",
              "    </tr>\n",
              "    <tr>\n",
              "      <th>279863</th>\n",
              "      <td>169142.0</td>\n",
              "      <td>-1.927883</td>\n",
              "      <td>1.125653</td>\n",
              "      <td>-4.518331</td>\n",
              "      <td>1.749293</td>\n",
              "      <td>-1.566487</td>\n",
              "      <td>-2.010494</td>\n",
              "      <td>-0.882850</td>\n",
              "      <td>0.697211</td>\n",
              "      <td>-2.064945</td>\n",
              "      <td>...</td>\n",
              "      <td>0.778584</td>\n",
              "      <td>-0.319189</td>\n",
              "      <td>0.639419</td>\n",
              "      <td>-0.294885</td>\n",
              "      <td>0.537503</td>\n",
              "      <td>0.788395</td>\n",
              "      <td>0.292680</td>\n",
              "      <td>0.147968</td>\n",
              "      <td>390.00</td>\n",
              "      <td>1</td>\n",
              "    </tr>\n",
              "    <tr>\n",
              "      <th>280143</th>\n",
              "      <td>169347.0</td>\n",
              "      <td>1.378559</td>\n",
              "      <td>1.289381</td>\n",
              "      <td>-5.004247</td>\n",
              "      <td>1.411850</td>\n",
              "      <td>0.442581</td>\n",
              "      <td>-1.326536</td>\n",
              "      <td>-1.413170</td>\n",
              "      <td>0.248525</td>\n",
              "      <td>-1.127396</td>\n",
              "      <td>...</td>\n",
              "      <td>0.370612</td>\n",
              "      <td>0.028234</td>\n",
              "      <td>-0.145640</td>\n",
              "      <td>-0.081049</td>\n",
              "      <td>0.521875</td>\n",
              "      <td>0.739467</td>\n",
              "      <td>0.389152</td>\n",
              "      <td>0.186637</td>\n",
              "      <td>0.76</td>\n",
              "      <td>1</td>\n",
              "    </tr>\n",
              "    <tr>\n",
              "      <th>280149</th>\n",
              "      <td>169351.0</td>\n",
              "      <td>-0.676143</td>\n",
              "      <td>1.126366</td>\n",
              "      <td>-2.213700</td>\n",
              "      <td>0.468308</td>\n",
              "      <td>-1.120541</td>\n",
              "      <td>-0.003346</td>\n",
              "      <td>-2.234739</td>\n",
              "      <td>1.210158</td>\n",
              "      <td>-0.652250</td>\n",
              "      <td>...</td>\n",
              "      <td>0.751826</td>\n",
              "      <td>0.834108</td>\n",
              "      <td>0.190944</td>\n",
              "      <td>0.032070</td>\n",
              "      <td>-0.739695</td>\n",
              "      <td>0.471111</td>\n",
              "      <td>0.385107</td>\n",
              "      <td>0.194361</td>\n",
              "      <td>77.89</td>\n",
              "      <td>1</td>\n",
              "    </tr>\n",
              "    <tr>\n",
              "      <th>281144</th>\n",
              "      <td>169966.0</td>\n",
              "      <td>-3.113832</td>\n",
              "      <td>0.585864</td>\n",
              "      <td>-5.399730</td>\n",
              "      <td>1.817092</td>\n",
              "      <td>-0.840618</td>\n",
              "      <td>-2.943548</td>\n",
              "      <td>-2.208002</td>\n",
              "      <td>1.058733</td>\n",
              "      <td>-1.632333</td>\n",
              "      <td>...</td>\n",
              "      <td>0.583276</td>\n",
              "      <td>-0.269209</td>\n",
              "      <td>-0.456108</td>\n",
              "      <td>-0.183659</td>\n",
              "      <td>-0.328168</td>\n",
              "      <td>0.606116</td>\n",
              "      <td>0.884876</td>\n",
              "      <td>-0.253700</td>\n",
              "      <td>245.00</td>\n",
              "      <td>1</td>\n",
              "    </tr>\n",
              "    <tr>\n",
              "      <th>281674</th>\n",
              "      <td>170348.0</td>\n",
              "      <td>1.991976</td>\n",
              "      <td>0.158476</td>\n",
              "      <td>-2.583441</td>\n",
              "      <td>0.408670</td>\n",
              "      <td>1.151147</td>\n",
              "      <td>-0.096695</td>\n",
              "      <td>0.223050</td>\n",
              "      <td>-0.068384</td>\n",
              "      <td>0.577829</td>\n",
              "      <td>...</td>\n",
              "      <td>-0.164350</td>\n",
              "      <td>-0.295135</td>\n",
              "      <td>-0.072173</td>\n",
              "      <td>-0.450261</td>\n",
              "      <td>0.313267</td>\n",
              "      <td>-0.289617</td>\n",
              "      <td>0.002988</td>\n",
              "      <td>-0.015309</td>\n",
              "      <td>42.53</td>\n",
              "      <td>1</td>\n",
              "    </tr>\n",
              "  </tbody>\n",
              "</table>\n",
              "<p>984 rows × 31 columns</p>\n",
              "</div>"
            ],
            "text/plain": [
              "            Time        V1        V2        V3        V4        V5        V6  \\\n",
              "100166   67439.0  1.231392  0.456721  0.119812  1.119747 -0.056764 -1.048124   \n",
              "4326      3760.0  1.401276 -0.683958 -0.915143 -1.616304  1.458234  3.274761   \n",
              "250909  155124.0  2.107170 -0.083080 -1.384193  0.243143  0.219118 -0.781873   \n",
              "283859  171933.0  2.219537 -0.522871 -1.420302 -0.924451 -0.337605 -1.415039   \n",
              "18777    29755.0  1.269032  0.188296 -0.054703  0.453526 -0.095770 -0.689943   \n",
              "...          ...       ...       ...       ...       ...       ...       ...   \n",
              "279863  169142.0 -1.927883  1.125653 -4.518331  1.749293 -1.566487 -2.010494   \n",
              "280143  169347.0  1.378559  1.289381 -5.004247  1.411850  0.442581 -1.326536   \n",
              "280149  169351.0 -0.676143  1.126366 -2.213700  0.468308 -1.120541 -0.003346   \n",
              "281144  169966.0 -3.113832  0.585864 -5.399730  1.817092 -0.840618 -2.943548   \n",
              "281674  170348.0  1.991976  0.158476 -2.583441  0.408670  1.151147 -0.096695   \n",
              "\n",
              "              V7        V8        V9  ...       V21       V22       V23  \\\n",
              "100166  0.466232 -0.347707 -0.284420  ... -0.010389  0.033606 -0.118439   \n",
              "4326   -1.170329  0.710345  0.360104  ... -0.278087 -0.898279  0.081211   \n",
              "250909  0.174728 -0.288366  0.591441  ... -0.336084 -0.839181  0.243466   \n",
              "283859 -0.050859 -0.498773 -0.843595  ...  0.065885  0.188144  0.196979   \n",
              "18777   0.148671 -0.091481 -0.208662  ... -0.039536 -0.149271 -0.099477   \n",
              "...          ...       ...       ...  ...       ...       ...       ...   \n",
              "279863 -0.882850  0.697211 -2.064945  ...  0.778584 -0.319189  0.639419   \n",
              "280143 -1.413170  0.248525 -1.127396  ...  0.370612  0.028234 -0.145640   \n",
              "280149 -2.234739  1.210158 -0.652250  ...  0.751826  0.834108  0.190944   \n",
              "281144 -2.208002  1.058733 -1.632333  ...  0.583276 -0.269209 -0.456108   \n",
              "281674  0.223050 -0.068384  0.577829  ... -0.164350 -0.295135 -0.072173   \n",
              "\n",
              "             V24       V25       V26       V27       V28  Amount  Class  \n",
              "100166  0.403716  0.757215 -0.362165  0.007450  0.021077   17.46      0  \n",
              "4326    0.920023  0.357016 -0.508385 -0.019937  0.015447   42.00      0  \n",
              "250909 -0.715377 -0.199308  0.242098 -0.072462 -0.066817    5.99      0  \n",
              "283859 -0.057347 -0.039596 -0.310990 -0.039283 -0.060392   17.99      0  \n",
              "18777   0.015003  0.554675  0.373752 -0.061152 -0.009992    1.23      0  \n",
              "...          ...       ...       ...       ...       ...     ...    ...  \n",
              "279863 -0.294885  0.537503  0.788395  0.292680  0.147968  390.00      1  \n",
              "280143 -0.081049  0.521875  0.739467  0.389152  0.186637    0.76      1  \n",
              "280149  0.032070 -0.739695  0.471111  0.385107  0.194361   77.89      1  \n",
              "281144 -0.183659 -0.328168  0.606116  0.884876 -0.253700  245.00      1  \n",
              "281674 -0.450261  0.313267 -0.289617  0.002988 -0.015309   42.53      1  \n",
              "\n",
              "[984 rows x 31 columns]"
            ]
          },
          "execution_count": 15,
          "metadata": {},
          "output_type": "execute_result"
        }
      ],
      "source": [
        "new_df"
      ]
    },
    {
      "cell_type": "code",
      "execution_count": 16,
      "id": "3868d20e",
      "metadata": {
        "colab": {
          "base_uri": "https://localhost:8080/",
          "height": 178
        },
        "id": "3868d20e",
        "outputId": "466a6eb8-21ee-41b3-9e09-47aa747cbafd"
      },
      "outputs": [
        {
          "data": {
            "text/plain": [
              "Class\n",
              "0    492\n",
              "1    492\n",
              "Name: count, dtype: int64"
            ]
          },
          "execution_count": 16,
          "metadata": {},
          "output_type": "execute_result"
        }
      ],
      "source": [
        "new_df['Class'].value_counts()"
      ]
    },
    {
      "cell_type": "code",
      "execution_count": 17,
      "id": "dc05a681",
      "metadata": {
        "colab": {
          "base_uri": "https://localhost:8080/",
          "height": 192
        },
        "id": "dc05a681",
        "outputId": "8127b920-0323-40d5-8ee9-26d98f5bd119"
      },
      "outputs": [
        {
          "data": {
            "text/html": [
              "<div>\n",
              "<style scoped>\n",
              "    .dataframe tbody tr th:only-of-type {\n",
              "        vertical-align: middle;\n",
              "    }\n",
              "\n",
              "    .dataframe tbody tr th {\n",
              "        vertical-align: top;\n",
              "    }\n",
              "\n",
              "    .dataframe thead th {\n",
              "        text-align: right;\n",
              "    }\n",
              "</style>\n",
              "<table border=\"1\" class=\"dataframe\">\n",
              "  <thead>\n",
              "    <tr style=\"text-align: right;\">\n",
              "      <th></th>\n",
              "      <th>Time</th>\n",
              "      <th>V1</th>\n",
              "      <th>V2</th>\n",
              "      <th>V3</th>\n",
              "      <th>V4</th>\n",
              "      <th>V5</th>\n",
              "      <th>V6</th>\n",
              "      <th>V7</th>\n",
              "      <th>V8</th>\n",
              "      <th>V9</th>\n",
              "      <th>...</th>\n",
              "      <th>V20</th>\n",
              "      <th>V21</th>\n",
              "      <th>V22</th>\n",
              "      <th>V23</th>\n",
              "      <th>V24</th>\n",
              "      <th>V25</th>\n",
              "      <th>V26</th>\n",
              "      <th>V27</th>\n",
              "      <th>V28</th>\n",
              "      <th>Amount</th>\n",
              "    </tr>\n",
              "    <tr>\n",
              "      <th>Class</th>\n",
              "      <th></th>\n",
              "      <th></th>\n",
              "      <th></th>\n",
              "      <th></th>\n",
              "      <th></th>\n",
              "      <th></th>\n",
              "      <th></th>\n",
              "      <th></th>\n",
              "      <th></th>\n",
              "      <th></th>\n",
              "      <th></th>\n",
              "      <th></th>\n",
              "      <th></th>\n",
              "      <th></th>\n",
              "      <th></th>\n",
              "      <th></th>\n",
              "      <th></th>\n",
              "      <th></th>\n",
              "      <th></th>\n",
              "      <th></th>\n",
              "      <th></th>\n",
              "    </tr>\n",
              "  </thead>\n",
              "  <tbody>\n",
              "    <tr>\n",
              "      <th>0</th>\n",
              "      <td>97616.623984</td>\n",
              "      <td>-0.037738</td>\n",
              "      <td>-0.182749</td>\n",
              "      <td>-0.063253</td>\n",
              "      <td>-0.054325</td>\n",
              "      <td>0.072327</td>\n",
              "      <td>0.051236</td>\n",
              "      <td>0.005137</td>\n",
              "      <td>0.022935</td>\n",
              "      <td>0.094994</td>\n",
              "      <td>...</td>\n",
              "      <td>0.024464</td>\n",
              "      <td>0.018819</td>\n",
              "      <td>0.059443</td>\n",
              "      <td>0.053901</td>\n",
              "      <td>-0.025496</td>\n",
              "      <td>0.028224</td>\n",
              "      <td>-0.014082</td>\n",
              "      <td>-0.010925</td>\n",
              "      <td>0.040191</td>\n",
              "      <td>102.365081</td>\n",
              "    </tr>\n",
              "    <tr>\n",
              "      <th>1</th>\n",
              "      <td>80746.806911</td>\n",
              "      <td>-4.771948</td>\n",
              "      <td>3.623778</td>\n",
              "      <td>-7.033281</td>\n",
              "      <td>4.542029</td>\n",
              "      <td>-3.151225</td>\n",
              "      <td>-1.397737</td>\n",
              "      <td>-5.568731</td>\n",
              "      <td>0.570636</td>\n",
              "      <td>-2.581123</td>\n",
              "      <td>...</td>\n",
              "      <td>0.372319</td>\n",
              "      <td>0.713588</td>\n",
              "      <td>0.014049</td>\n",
              "      <td>-0.040308</td>\n",
              "      <td>-0.105130</td>\n",
              "      <td>0.041449</td>\n",
              "      <td>0.051648</td>\n",
              "      <td>0.170575</td>\n",
              "      <td>0.075667</td>\n",
              "      <td>122.211321</td>\n",
              "    </tr>\n",
              "  </tbody>\n",
              "</table>\n",
              "<p>2 rows × 30 columns</p>\n",
              "</div>"
            ],
            "text/plain": [
              "               Time        V1        V2        V3        V4        V5  \\\n",
              "Class                                                                   \n",
              "0      97616.623984 -0.037738 -0.182749 -0.063253 -0.054325  0.072327   \n",
              "1      80746.806911 -4.771948  3.623778 -7.033281  4.542029 -3.151225   \n",
              "\n",
              "             V6        V7        V8        V9  ...       V20       V21  \\\n",
              "Class                                          ...                       \n",
              "0      0.051236  0.005137  0.022935  0.094994  ...  0.024464  0.018819   \n",
              "1     -1.397737 -5.568731  0.570636 -2.581123  ...  0.372319  0.713588   \n",
              "\n",
              "            V22       V23       V24       V25       V26       V27       V28  \\\n",
              "Class                                                                         \n",
              "0      0.059443  0.053901 -0.025496  0.028224 -0.014082 -0.010925  0.040191   \n",
              "1      0.014049 -0.040308 -0.105130  0.041449  0.051648  0.170575  0.075667   \n",
              "\n",
              "           Amount  \n",
              "Class              \n",
              "0      102.365081  \n",
              "1      122.211321  \n",
              "\n",
              "[2 rows x 30 columns]"
            ]
          },
          "execution_count": 17,
          "metadata": {},
          "output_type": "execute_result"
        }
      ],
      "source": [
        "new_df.groupby('Class').mean()"
      ]
    },
    {
      "cell_type": "code",
      "execution_count": 18,
      "id": "8892a2f5",
      "metadata": {
        "id": "8892a2f5"
      },
      "outputs": [],
      "source": [
        "X = new_df.drop(columns='Class', axis=1)\n",
        "Y = new_df['Class']"
      ]
    },
    {
      "cell_type": "code",
      "execution_count": 19,
      "id": "9569f7ee",
      "metadata": {
        "id": "9569f7ee"
      },
      "outputs": [],
      "source": [
        "X_train, X_test, Y_train, Y_test = train_test_split(X, Y, test_size=0.2, stratify=Y, random_state=2)"
      ]
    },
    {
      "cell_type": "markdown",
      "id": "8b751cfb",
      "metadata": {
        "id": "8b751cfb"
      },
      "source": [
        "# Model Training\n",
        "\n",
        "Logistic Regression"
      ]
    },
    {
      "cell_type": "code",
      "execution_count": 29,
      "id": "a771842e",
      "metadata": {},
      "outputs": [
        {
          "name": "stdout",
          "output_type": "stream",
          "text": [
            "Accuracy on Training data (LR) :  0.9466327827191868\n",
            "Accuracy score on Test Data (LR) :  0.934010152284264\n"
          ]
        },
        {
          "name": "stderr",
          "output_type": "stream",
          "text": [
            "c:\\Users\\SHAKIL\\AppData\\Local\\Programs\\Python\\Python312\\Lib\\site-packages\\sklearn\\linear_model\\_logistic.py:465: ConvergenceWarning: lbfgs failed to converge (status=1):\n",
            "STOP: TOTAL NO. of ITERATIONS REACHED LIMIT.\n",
            "\n",
            "Increase the number of iterations (max_iter) or scale the data as shown in:\n",
            "    https://scikit-learn.org/stable/modules/preprocessing.html\n",
            "Please also refer to the documentation for alternative solver options:\n",
            "    https://scikit-learn.org/stable/modules/linear_model.html#logistic-regression\n",
            "  n_iter_i = _check_optimize_result(\n"
          ]
        }
      ],
      "source": [
        "model = LogisticRegression()\n",
        "# training the Logistic Regression Model with Training Data\n",
        "model.fit(X_train, Y_train)\n",
        "\n",
        "# accuracy on training data\n",
        "X_train_prediction = model.predict(X_train)\n",
        "training_data_accuracy = accuracy_score(X_train_prediction, Y_train)\n",
        "print('Accuracy on Training data (LR) : ', training_data_accuracy)\n",
        "\n",
        "# accuracy on test data\n",
        "X_test_prediction = model.predict(X_test)\n",
        "test_data_accuracy = accuracy_score(X_test_prediction, Y_test)\n",
        "print('Accuracy score on Test Data (LR) : ', test_data_accuracy)"
      ]
    },
    {
      "cell_type": "code",
      "execution_count": 30,
      "id": "42d380ed",
      "metadata": {},
      "outputs": [
        {
          "name": "stdout",
          "output_type": "stream",
          "text": [
            "Accuracy (LR): 0.9466327827191868\n",
            "Precision (LR): 0.9631578947368421\n",
            "Recall (LR): 0.9289340101522843\n",
            "F1 Score (LR): 0.9457364341085271\n"
          ]
        }
      ],
      "source": [
        "from sklearn.metrics import accuracy_score, precision_score, recall_score, f1_score\n",
        "\n",
        "accuracy_lr = accuracy_score(Y_train, X_train_prediction)\n",
        "precision_lr = precision_score(Y_train, X_train_prediction)\n",
        "recall_lr = recall_score(Y_train, X_train_prediction)\n",
        "f1_lr = f1_score(Y_train, X_train_prediction)\n",
        "\n",
        "print(\"Accuracy (LR):\", accuracy_lr)\n",
        "print(\"Precision (LR):\", precision_lr)\n",
        "print(\"Recall (LR):\", recall_lr)\n",
        "print(\"F1 Score (LR):\", f1_lr)"
      ]
    },
    {
      "cell_type": "markdown",
      "id": "821562_oXuYg",
      "metadata": {
        "id": "821562_oXuYg"
      },
      "source": [
        "SVM"
      ]
    },
    {
      "cell_type": "code",
      "execution_count": 31,
      "id": "977bbb39",
      "metadata": {},
      "outputs": [
        {
          "name": "stdout",
          "output_type": "stream",
          "text": [
            "Accuracy on Training data (SVM): 0.9097839898348158\n",
            "Accuracy score on Test Data (SVM): 0.9086294416243654\n"
          ]
        }
      ],
      "source": [
        "from sklearn import svm\n",
        "\n",
        "# Support Vector Machine (SVM) model training and evaluation\n",
        "\n",
        "svm_model = svm.SVC(kernel='linear')\n",
        "svm_model.fit(X_train, Y_train)\n",
        "\n",
        "# Predictions on training and test data\n",
        "X_train_prediction_svm = svm_model.predict(X_train)\n",
        "X_test_prediction_svm = svm_model.predict(X_test)\n",
        "\n",
        "# Accuracy scores\n",
        "training_data_accuracy_svm = accuracy_score(X_train_prediction_svm, Y_train)\n",
        "test_data_accuracy_svm = accuracy_score(X_test_prediction_svm, Y_test)\n",
        "\n",
        "print('Accuracy on Training data (SVM):', training_data_accuracy_svm)\n",
        "print('Accuracy score on Test Data (SVM):', test_data_accuracy_svm)"
      ]
    },
    {
      "cell_type": "code",
      "execution_count": 32,
      "id": "e5d51155",
      "metadata": {},
      "outputs": [
        {
          "name": "stdout",
          "output_type": "stream",
          "text": [
            "Accuracy (SVM): 0.9097839898348158\n",
            "Precision (SVM): 0.9969230769230769\n",
            "Recall (SVM): 0.8223350253807107\n",
            "F1 Score (SVM): 0.9012517385257302\n"
          ]
        }
      ],
      "source": [
        "from sklearn.metrics import accuracy_score, precision_score, recall_score, f1_score\n",
        "\n",
        "accuracy = accuracy_score(Y_train, X_train_prediction_svm)\n",
        "precision = precision_score(Y_train, X_train_prediction_svm)\n",
        "recall = recall_score(Y_train, X_train_prediction_svm)\n",
        "f1 = f1_score(Y_train, X_train_prediction_svm)\n",
        "\n",
        "print(\"Accuracy (SVM):\", accuracy)\n",
        "print(\"Precision (SVM):\", precision)\n",
        "print(\"Recall (SVM):\", recall)\n",
        "print(\"F1 Score (SVM):\", f1)"
      ]
    },
    {
      "cell_type": "markdown",
      "id": "7ad3a843",
      "metadata": {},
      "source": [
        "KNN"
      ]
    },
    {
      "cell_type": "code",
      "execution_count": 33,
      "id": "17212221",
      "metadata": {},
      "outputs": [
        {
          "name": "stdout",
          "output_type": "stream",
          "text": [
            "Accuracy on Training data (KNN): 0.7573062261753494\n",
            "Accuracy score on Test Data (KNN): 0.6345177664974619\n"
          ]
        }
      ],
      "source": [
        "from sklearn.neighbors import KNeighborsClassifier\n",
        "\n",
        "knn_model = KNeighborsClassifier(n_neighbors=5)\n",
        "knn_model.fit(X_train, Y_train)\n",
        "\n",
        "# Accuracy on training data\n",
        "X_train_prediction_knn = knn_model.predict(X_train)\n",
        "training_data_accuracy_knn = accuracy_score(X_train_prediction_knn, Y_train)\n",
        "print('Accuracy on Training data (KNN):', training_data_accuracy_knn)\n",
        "\n",
        "# Accuracy on test data\n",
        "X_test_prediction_knn = knn_model.predict(X_test)\n",
        "test_data_accuracy_knn = accuracy_score(X_test_prediction_knn, Y_test)\n",
        "print('Accuracy score on Test Data (KNN):', test_data_accuracy_knn)"
      ]
    },
    {
      "cell_type": "code",
      "execution_count": 34,
      "id": "1442709e",
      "metadata": {},
      "outputs": [
        {
          "name": "stdout",
          "output_type": "stream",
          "text": [
            "Accuracy (KNN): 0.7573062261753494\n",
            "Precision (KNN): 0.7706666666666667\n",
            "Recall (KNN): 0.733502538071066\n",
            "F1 Score (KNN): 0.7516254876462939\n"
          ]
        }
      ],
      "source": [
        "accuracy_knn = accuracy_score(Y_train, X_train_prediction_knn)\n",
        "precision_knn = precision_score(Y_train, X_train_prediction_knn)\n",
        "recall_knn = recall_score(Y_train, X_train_prediction_knn)\n",
        "f1_knn = f1_score(Y_train, X_train_prediction_knn)\n",
        "\n",
        "print(\"Accuracy (KNN):\", accuracy_knn)\n",
        "print(\"Precision (KNN):\", precision_knn)\n",
        "print(\"Recall (KNN):\", recall_knn)\n",
        "print(\"F1 Score (KNN):\", f1_knn)"
      ]
    },
    {
      "cell_type": "markdown",
      "id": "93e30825",
      "metadata": {},
      "source": [
        "Random Forest"
      ]
    },
    {
      "cell_type": "code",
      "execution_count": 35,
      "id": "440c3f71",
      "metadata": {},
      "outputs": [
        {
          "name": "stdout",
          "output_type": "stream",
          "text": [
            "Accuracy on Training data (Random Forest): 1.0\n",
            "Accuracy score on Test Data (Random Forest): 0.9187817258883249\n"
          ]
        }
      ],
      "source": [
        "from sklearn.ensemble import RandomForestClassifier\n",
        "\n",
        "# Create and train the Random Forest model\n",
        "rf_model = RandomForestClassifier(n_estimators=100, random_state=42)\n",
        "rf_model.fit(X_train, Y_train)\n",
        "\n",
        "# Accuracy on training data\n",
        "X_train_prediction_rf = rf_model.predict(X_train)\n",
        "training_data_accuracy_rf = accuracy_score(X_train_prediction_rf, Y_train)\n",
        "print('Accuracy on Training data (Random Forest):', training_data_accuracy_rf)\n",
        "\n",
        "# Accuracy on test data\n",
        "X_test_prediction_rf = rf_model.predict(X_test)\n",
        "test_data_accuracy_rf = accuracy_score(X_test_prediction_rf, Y_test)\n",
        "print('Accuracy score on Test Data (Random Forest):', test_data_accuracy_rf)"
      ]
    },
    {
      "cell_type": "code",
      "execution_count": 36,
      "id": "45ea3220",
      "metadata": {},
      "outputs": [
        {
          "name": "stdout",
          "output_type": "stream",
          "text": [
            "Accuracy (RF): 1.0\n",
            "Precision (RF): 1.0\n",
            "Recall (RF): 1.0\n",
            "F1 Score (RF): 1.0\n"
          ]
        }
      ],
      "source": [
        "accuracy_rf = accuracy_score(Y_train, X_train_prediction_rf)\n",
        "precision_rf = precision_score(Y_train, X_train_prediction_rf)\n",
        "recall_rf = recall_score(Y_train, X_train_prediction_rf)\n",
        "f1_rf = f1_score(Y_train, X_train_prediction_rf)\n",
        "\n",
        "print(\"Accuracy (RF):\", accuracy_rf)\n",
        "print(\"Precision (RF):\", precision_rf)\n",
        "print(\"Recall (RF):\", recall_rf)\n",
        "print(\"F1 Score (RF):\", f1_rf)"
      ]
    },
    {
      "cell_type": "markdown",
      "id": "145328b4",
      "metadata": {},
      "source": [
        "Decision Tree"
      ]
    },
    {
      "cell_type": "code",
      "execution_count": 37,
      "id": "9bd6163f",
      "metadata": {},
      "outputs": [
        {
          "name": "stdout",
          "output_type": "stream",
          "text": [
            "Accuracy on Training data (Decision Tree): 1.0\n",
            "Accuracy score on Test Data (Decision Tree): 0.9035532994923858\n"
          ]
        }
      ],
      "source": [
        "from sklearn.tree import DecisionTreeClassifier\n",
        "\n",
        "# Create and train the Decision Tree model\n",
        "dtree = DecisionTreeClassifier(random_state=42)\n",
        "dtree.fit(X_train, Y_train)\n",
        "\n",
        "# Accuracy on training data\n",
        "X_train_prediction_dtree = dtree.predict(X_train)\n",
        "training_data_accuracy_dtree = accuracy_score(X_train_prediction_dtree, Y_train)\n",
        "print('Accuracy on Training data (Decision Tree):', training_data_accuracy_dtree)\n",
        "\n",
        "# Accuracy on test data\n",
        "X_test_prediction_dtree = dtree.predict(X_test)\n",
        "test_data_accuracy_dtree = accuracy_score(X_test_prediction_dtree, Y_test)\n",
        "print('Accuracy score on Test Data (Decision Tree):', test_data_accuracy_dtree)"
      ]
    },
    {
      "cell_type": "code",
      "execution_count": 38,
      "id": "0f159b40",
      "metadata": {},
      "outputs": [
        {
          "name": "stdout",
          "output_type": "stream",
          "text": [
            "Accuracy (DT): 1.0\n",
            "Precision (DT): 1.0\n",
            "Recall (DT): 1.0\n",
            "F1 Score (DT): 1.0\n"
          ]
        }
      ],
      "source": [
        "from sklearn.metrics import accuracy_score, precision_score, recall_score, f1_score\n",
        "\n",
        "accuracy_dtree = accuracy_score(Y_train, X_train_prediction_dtree)\n",
        "precision_dtree = precision_score(Y_train, X_train_prediction_dtree)\n",
        "recall_dtree = recall_score(Y_train, X_train_prediction_dtree)\n",
        "f1_dtree = f1_score(Y_train, X_train_prediction_dtree)\n",
        "\n",
        "print(\"Accuracy (DT):\", accuracy_dtree)\n",
        "print(\"Precision (DT):\", precision_dtree)\n",
        "print(\"Recall (DT):\", recall_dtree)\n",
        "print(\"F1 Score (DT):\", f1_dtree)"
      ]
    },
    {
      "cell_type": "markdown",
      "id": "8bd703ce",
      "metadata": {},
      "source": [
        "XGBoost"
      ]
    },
    {
      "cell_type": "code",
      "execution_count": 39,
      "id": "73131ccc",
      "metadata": {},
      "outputs": [
        {
          "name": "stdout",
          "output_type": "stream",
          "text": [
            "Accuracy on Training data (XGBoost): 1.0\n",
            "Accuracy score on Test Data (XGBoost): 0.9137055837563451\n"
          ]
        }
      ],
      "source": [
        "from xgboost import XGBClassifier\n",
        "\n",
        "# Create and train the XGBoost model\n",
        "xgb_model = XGBClassifier(eval_metric='logloss', random_state=42)\n",
        "xgb_model.fit(X_train, Y_train)\n",
        "\n",
        "# Accuracy on training data\n",
        "X_train_prediction_xgb = xgb_model.predict(X_train)\n",
        "training_data_accuracy_xgb = accuracy_score(X_train_prediction_xgb, Y_train)\n",
        "print('Accuracy on Training data (XGBoost):', training_data_accuracy_xgb)\n",
        "\n",
        "# Accuracy on test data\n",
        "X_test_prediction_xgb = xgb_model.predict(X_test)\n",
        "test_data_accuracy_xgb = accuracy_score(X_test_prediction_xgb, Y_test)\n",
        "print('Accuracy score on Test Data (XGBoost):', test_data_accuracy_xgb)"
      ]
    },
    {
      "cell_type": "code",
      "execution_count": 40,
      "id": "a9339802",
      "metadata": {},
      "outputs": [
        {
          "name": "stdout",
          "output_type": "stream",
          "text": [
            "Accuracy (XGBoost): 1.0\n",
            "Precision (XGBoost): 1.0\n",
            "Recall (XGBoost): 1.0\n",
            "F1 Score (XGBoost): 1.0\n"
          ]
        }
      ],
      "source": [
        "from sklearn.metrics import accuracy_score, precision_score, recall_score, f1_score\n",
        "\n",
        "accuracy_xgb = accuracy_score(Y_train, X_train_prediction_xgb)\n",
        "precision_xgb = precision_score(Y_train, X_train_prediction_xgb)\n",
        "recall_xgb = recall_score(Y_train, X_train_prediction_xgb)\n",
        "f1_xgb = f1_score(Y_train, X_train_prediction_xgb)\n",
        "\n",
        "print(\"Accuracy (XGBoost):\", accuracy_xgb)\n",
        "print(\"Precision (XGBoost):\", precision_xgb)\n",
        "print(\"Recall (XGBoost):\", recall_xgb)\n",
        "print(\"F1 Score (XGBoost):\", f1_xgb)"
      ]
    },
    {
      "cell_type": "code",
      "execution_count": 42,
      "id": "b2715910",
      "metadata": {},
      "outputs": [
        {
          "name": "stdout",
          "output_type": "stream",
          "text": [
            "Accuracy on Training data (AdaBoost): 0.9949174078780177\n",
            "Accuracy score on Test Data (AdaBoost): 0.9137055837563451\n"
          ]
        }
      ],
      "source": [
        "from sklearn.ensemble import AdaBoostClassifier\n",
        "\n",
        "# Create and train the AdaBoost model\n",
        "ada_model = AdaBoostClassifier(n_estimators=100, random_state=42)\n",
        "ada_model.fit(X_train, Y_train)\n",
        "\n",
        "# Accuracy on training data\n",
        "X_train_prediction_ada = ada_model.predict(X_train)\n",
        "training_data_accuracy_ada = accuracy_score(X_train_prediction_ada, Y_train)\n",
        "print('Accuracy on Training data (AdaBoost):', training_data_accuracy_ada)\n",
        "\n",
        "# Accuracy on test data\n",
        "X_test_prediction_ada = ada_model.predict(X_test)\n",
        "test_data_accuracy_ada = accuracy_score(X_test_prediction_ada, Y_test)\n",
        "print('Accuracy score on Test Data (AdaBoost):', test_data_accuracy_ada)"
      ]
    },
    {
      "cell_type": "code",
      "execution_count": 43,
      "id": "828456d7",
      "metadata": {},
      "outputs": [
        {
          "name": "stdout",
          "output_type": "stream",
          "text": [
            "Accuracy (AdaBoost): 0.9949174078780177\n",
            "Precision (AdaBoost): 0.9974489795918368\n",
            "Recall (AdaBoost): 0.9923857868020305\n",
            "F1 Score (AdaBoost): 0.9949109414758269\n"
          ]
        }
      ],
      "source": [
        "from sklearn.metrics import accuracy_score, precision_score, recall_score, f1_score\n",
        "\n",
        "ada_train_pred = ada_model.predict(X_train)\n",
        "\n",
        "accuracy_ada = accuracy_score(Y_train, ada_train_pred)\n",
        "precision_ada = precision_score(Y_train, ada_train_pred)\n",
        "recall_ada = recall_score(Y_train, ada_train_pred)\n",
        "f1_ada = f1_score(Y_train, ada_train_pred)\n",
        "\n",
        "print(\"Accuracy (AdaBoost):\", accuracy_ada)\n",
        "print(\"Precision (AdaBoost):\", precision_ada)\n",
        "print(\"Recall (AdaBoost):\", recall_ada)\n",
        "print(\"F1 Score (AdaBoost):\", f1_ada)"
      ]
    },
    {
      "cell_type": "code",
      "execution_count": 47,
      "id": "af1dce5e",
      "metadata": {},
      "outputs": [
        {
          "name": "stdout",
          "output_type": "stream",
          "text": [
            "Accuracy on Training data (GB): 1.0\n",
            "Accuracy score on Test Data (GB): 0.9289340101522843\n"
          ]
        }
      ],
      "source": [
        "from sklearn.ensemble import GradientBoostingClassifier\n",
        "\n",
        "# Create and train the Gradient Boosting model\n",
        "gb_model = GradientBoostingClassifier(n_estimators=100, random_state=42)\n",
        "gb_model.fit(X_train, Y_train)\n",
        "\n",
        "# Accuracy on training data\n",
        "X_train_prediction_gb = gb_model.predict(X_train)\n",
        "training_data_accuracy_gb = accuracy_score(X_train_prediction_gb, Y_train)\n",
        "print('Accuracy on Training data (GB):', training_data_accuracy_gb)\n",
        "\n",
        "# Accuracy on test data\n",
        "X_test_prediction_gb = gb_model.predict(X_test)\n",
        "test_data_accuracy_gb = accuracy_score(X_test_prediction_gb, Y_test)\n",
        "print('Accuracy score on Test Data (GB):', test_data_accuracy_gb)"
      ]
    },
    {
      "cell_type": "code",
      "execution_count": 48,
      "id": "dd9fb04a",
      "metadata": {},
      "outputs": [
        {
          "name": "stdout",
          "output_type": "stream",
          "text": [
            "Accuracy (GB): 1.0\n",
            "Precision (GB): 1.0\n",
            "Recall (GB): 1.0\n",
            "F1 Score (GB): 1.0\n"
          ]
        }
      ],
      "source": [
        "# Predictions on training data for Gradient Boosting\n",
        "X_train_prediction_gb = gb_model.predict(X_train)\n",
        "\n",
        "# Calculate metrics for Gradient Boosting\n",
        "accuracy_gb = accuracy_score(Y_train, X_train_prediction_gb)\n",
        "precision_gb = precision_score(Y_train, X_train_prediction_gb)\n",
        "recall_gb = recall_score(Y_train, X_train_prediction_gb)\n",
        "f1_gb = f1_score(Y_train, X_train_prediction_gb)\n",
        "\n",
        "print(\"Accuracy (GB):\", accuracy_gb)\n",
        "print(\"Precision (GB):\", precision_gb)\n",
        "print(\"Recall (GB):\", recall_gb)\n",
        "print(\"F1 Score (GB):\", f1_gb)"
      ]
    },
    {
      "cell_type": "code",
      "execution_count": 49,
      "id": "8a256521",
      "metadata": {},
      "outputs": [
        {
          "name": "stderr",
          "output_type": "stream",
          "text": [
            "c:\\Users\\SHAKIL\\AppData\\Local\\Programs\\Python\\Python312\\Lib\\site-packages\\keras\\src\\layers\\core\\dense.py:93: UserWarning: Do not pass an `input_shape`/`input_dim` argument to a layer. When using Sequential models, prefer using an `Input(shape)` object as the first layer in the model instead.\n",
            "  super().__init__(activity_regularizer=activity_regularizer, **kwargs)\n"
          ]
        },
        {
          "name": "stdout",
          "output_type": "stream",
          "text": [
            "Keras Model Accuracy on Training data: 0.566709041595459\n",
            "Keras Model Accuracy on Test data: 0.4974619150161743\n"
          ]
        }
      ],
      "source": [
        "from tensorflow.keras.models import Sequential\n",
        "from tensorflow.keras.layers import Dense\n",
        "from tensorflow.keras.optimizers import Adam\n",
        "\n",
        "# Build a simple feedforward neural network\n",
        "model_keras = Sequential([\n",
        "    Dense(32, activation='relu', input_shape=(X_train.shape[1],)),\n",
        "    Dense(16, activation='relu'),\n",
        "    Dense(1, activation='sigmoid')\n",
        "])\n",
        "\n",
        "model_keras.compile(optimizer=Adam(), loss='binary_crossentropy', metrics=['accuracy'])\n",
        "\n",
        "# Train the model\n",
        "history = model_keras.fit(X_train, Y_train, epochs=100, batch_size=32, validation_data=(X_test, Y_test), verbose=0)\n",
        "\n",
        "# Evaluate on training data\n",
        "train_loss, train_acc_keras = model_keras.evaluate(X_train, Y_train, verbose=0)\n",
        "print('Keras Model Accuracy on Training data:', train_acc_keras)\n",
        "\n",
        "# Evaluate on test data\n",
        "test_loss, test_acc_keras = model_keras.evaluate(X_test, Y_test, verbose=0)\n",
        "print('Keras Model Accuracy on Test data:', test_acc_keras)"
      ]
    }
  ],
  "metadata": {
    "colab": {
      "provenance": []
    },
    "kernelspec": {
      "display_name": "Python 3",
      "language": "python",
      "name": "python3"
    },
    "language_info": {
      "codemirror_mode": {
        "name": "ipython",
        "version": 3
      },
      "file_extension": ".py",
      "mimetype": "text/x-python",
      "name": "python",
      "nbconvert_exporter": "python",
      "pygments_lexer": "ipython3",
      "version": "3.12.2"
    }
  },
  "nbformat": 4,
  "nbformat_minor": 5
}
